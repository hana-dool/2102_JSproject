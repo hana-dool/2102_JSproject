{
 "cells": [
  {
   "cell_type": "markdown",
   "metadata": {},
   "source": [
    "# 기본 Settings"
   ]
  },
  {
   "cell_type": "code",
   "execution_count": 2,
   "metadata": {},
   "outputs": [],
   "source": [
    "import json\n",
    "import pandas as pd\n",
    "import numpy as np\n",
    "import matplotlib.pyplot as plt\n",
    "import seaborn as sns\n",
    "\n",
    "# 한글폰트 사용\n",
    "import matplotlib as mpl\n",
    "mpl.rc('font', family='NanumGothic')\n",
    "mpl.rc('axes', unicode_minus=False)\n",
    "\n",
    "# pandas display 수 확장\n",
    "pd.set_option('display.max_rows', 300)\n",
    "pd.set_option('display.max_columns', 60)"
   ]
  },
  {
   "cell_type": "code",
   "execution_count": 3,
   "metadata": {},
   "outputs": [],
   "source": [
    "with open('./전국무료급식소표준데이터 (1).json',encoding='UTF8') as f:\n",
    "    data = json.load(f)"
   ]
  },
  {
   "cell_type": "code",
   "execution_count": 4,
   "metadata": {},
   "outputs": [],
   "source": [
    "df = pd.DataFrame.from_dict(data['records'])"
   ]
  },
  {
   "cell_type": "markdown",
   "metadata": {},
   "source": [
    "# 데이터 살펴보기"
   ]
  },
  {
   "cell_type": "code",
   "execution_count": 5,
   "metadata": {
    "scrolled": false
   },
   "outputs": [
    {
     "name": "stdout",
     "output_type": "stream",
     "text": [
      "<class 'pandas.core.frame.DataFrame'>\n",
      "RangeIndex: 1442 entries, 0 to 1441\n",
      "Data columns (total 16 columns):\n",
      " #   Column    Non-Null Count  Dtype \n",
      "---  ------    --------------  ----- \n",
      " 0   시설명       1442 non-null   object\n",
      " 1   소재지도로명주소  1442 non-null   object\n",
      " 2   소재지지번주소   1359 non-null   object\n",
      " 3   운영기관명     1442 non-null   object\n",
      " 4   전화번호      1409 non-null   object\n",
      " 5   급식장소      1442 non-null   object\n",
      " 6   급식대상      1442 non-null   object\n",
      " 7   급식시간      1442 non-null   object\n",
      " 8   위도        1439 non-null   object\n",
      " 9   경도        1439 non-null   object\n",
      " 10  데이터기준일자   1442 non-null   object\n",
      " 11  제공기관코드    1442 non-null   object\n",
      " 12  제공기관명     1442 non-null   object\n",
      " 13  급식요일      1390 non-null   object\n",
      " 14  운영시작일자    1351 non-null   object\n",
      " 15  운영종료일자    1160 non-null   object\n",
      "dtypes: object(16)\n",
      "memory usage: 180.4+ KB\n"
     ]
    }
   ],
   "source": [
    "# null 이 있는게 좀 있네?\n",
    "# 도로명주소로 하는게 좋아보임\n",
    "df.info()"
   ]
  },
  {
   "cell_type": "markdown",
   "metadata": {},
   "source": [
    "# 중복된 데이터 처리"
   ]
  },
  {
   "cell_type": "markdown",
   "metadata": {},
   "source": [
    "- 현재 몇개의 같은 row 가 중복되어서 들어가있다.\n",
    "- 이는 담당자의 실수라고 판단된다. 즉 삭제하기로 하였다."
   ]
  },
  {
   "cell_type": "code",
   "execution_count": 6,
   "metadata": {},
   "outputs": [],
   "source": [
    "df.drop_duplicates(inplace= True)\n",
    "df = df.reset_index()"
   ]
  },
  {
   "cell_type": "markdown",
   "metadata": {},
   "source": [
    "# 지역별 급식소 수"
   ]
  },
  {
   "cell_type": "markdown",
   "metadata": {},
   "source": [
    "- 충청남도홍성군 -> '충청남도 홍성군'\n",
    "- 의정부시 -> "
   ]
  },
  {
   "cell_type": "code",
   "execution_count": 7,
   "metadata": {
    "scrolled": true
   },
   "outputs": [],
   "source": [
    "df['지역'] = df['소재지도로명주소'].str.split(\" \",expand = True)[0]"
   ]
  },
  {
   "cell_type": "markdown",
   "metadata": {},
   "source": [
    "- 아래와 같이 지역에 이상한 주소가 끼어있다.\n",
    "- 이를 모두 큰 지역의 범주로 바꾸어주자."
   ]
  },
  {
   "cell_type": "code",
   "execution_count": 8,
   "metadata": {},
   "outputs": [
    {
     "data": {
      "text/plain": [
       "충청남도홍성군    1\n",
       "의정부시       1\n",
       "세종특별자치시    1\n",
       "           1\n",
       "Name: 지역, dtype: int64"
      ]
     },
     "execution_count": 8,
     "metadata": {},
     "output_type": "execute_result"
    }
   ],
   "source": [
    "df['지역'].value_counts()[-4:]"
   ]
  },
  {
   "cell_type": "code",
   "execution_count": 9,
   "metadata": {},
   "outputs": [],
   "source": [
    "df['지역'] = df['지역'].replace(['','세종특별자치시','의정부시','충청남도홍성군'],['서울특별시','충청남도','경기도','충청남도'])"
   ]
  },
  {
   "cell_type": "code",
   "execution_count": 10,
   "metadata": {
    "scrolled": true
   },
   "outputs": [
    {
     "data": {
      "image/png": "[encoded data removed]",
      "text/plain": [
       "<Figure size 1080x504 with 1 Axes>"
      ]
     },
     "metadata": {
      "needs_background": "light"
     },
     "output_type": "display_data"
    }
   ],
   "source": [
    "plt.figure(figsize = (15,7))\n",
    "plt.bar(df['지역'].value_counts().index, df['지역'].value_counts())\n",
    "plt.xticks(rotation = 60) ;"
   ]
  },
  {
   "cell_type": "code",
   "execution_count": 11,
   "metadata": {},
   "outputs": [
    {
     "data": {
      "text/plain": [
       "경기도        234\n",
       "전라남도       193\n",
       "서울특별시      172\n",
       "경상남도        98\n",
       "부산광역시       85\n",
       "전라북도        85\n",
       "대구광역시       81\n",
       "울산광역시       70\n",
       "강원도         63\n",
       "충청남도        61\n",
       "광주광역시       58\n",
       "인천광역시       58\n",
       "대전광역시       55\n",
       "경상북도        54\n",
       "충청북도        32\n",
       "제주특별자치도     11\n",
       "Name: 지역, dtype: int64"
      ]
     },
     "execution_count": 11,
     "metadata": {},
     "output_type": "execute_result"
    }
   ],
   "source": [
    "df['지역'].value_counts()"
   ]
  },
  {
   "cell_type": "markdown",
   "metadata": {},
   "source": [
    "# 시설명, 운영기관명 처리\n",
    "\n",
    "- 아래와 같이 소재지 주소, 위/경도, 운영시작일자 모두 같음에도 시설명이 다른것이 존재한다.\n",
    "- 시설명은 key 로서 적절하지 않다. 하지만 이때 왜 시설명이 다르지만 도로명 주소가 같은것일까?\n",
    "    - http://www.asanin.kr/news/articleView.html?idxno=1357 를 참고하면 같은 급식소를 '돌아가면서' 운영하는 경우가 있음을 알 수 있다.\n",
    "    - \"아산무료경로급식소는 매주 월요일에는 따사모봉사단(단장 유영금), 화요일에는 아산시번영회(회장 신용호), 수요일에는 나눔과 기쁨(대표 김종기), 목요일에는 아산상록회(대표 김창래), 금요일에는 해피데이(노성웅 목사)가 맡아서 운영하고 있었다\" 출처 : 아산IN(http://www.asanin.kr)\n",
    "- 즉, 오표기가 아니라 맞는 표기이고 그저 돌아가면서 운영함을 의미한다.\n",
    "\n",
    "- 기관별로 거의 운영은 하나정도만 이루어지고 있음"
   ]
  },
  {
   "cell_type": "code",
   "execution_count": 12,
   "metadata": {
    "scrolled": false
   },
   "outputs": [
    {
     "data": {
      "text/plain": [
       "1     1003\n",
       "2      141\n",
       "3       13\n",
       "4        8\n",
       "5        3\n",
       "6        3\n",
       "10       1\n",
       "11       1\n",
       "Name: 운영기관명, dtype: int64"
      ]
     },
     "execution_count": 12,
     "metadata": {},
     "output_type": "execute_result"
    }
   ],
   "source": [
    "df['운영기관명'].value_counts().value_counts()"
   ]
  },
  {
   "cell_type": "code",
   "execution_count": 13,
   "metadata": {},
   "outputs": [
    {
     "data": {
      "text/plain": [
       "0"
      ]
     },
     "execution_count": 13,
     "metadata": {},
     "output_type": "execute_result"
    }
   ],
   "source": [
    "# 우선 시설의 null 값은 없다. 매우 좋은 정보\n",
    "df['운영기관명'].isnull().sum()"
   ]
  },
  {
   "cell_type": "code",
   "execution_count": 14,
   "metadata": {
    "scrolled": false
   },
   "outputs": [
    {
     "data": {
      "text/html": [
       "<div>\n",
       "<style scoped>\n",
       "    .dataframe tbody tr th:only-of-type {\n",
       "        vertical-align: middle;\n",
       "    }\n",
       "\n",
       "    .dataframe tbody tr th {\n",
       "        vertical-align: top;\n",
       "    }\n",
       "\n",
       "    .dataframe thead th {\n",
       "        text-align: right;\n",
       "    }\n",
       "</style>\n",
       "<table border=\"1\" class=\"dataframe\">\n",
       "  <thead>\n",
       "    <tr style=\"text-align: right;\">\n",
       "      <th></th>\n",
       "      <th>index</th>\n",
       "      <th>시설명</th>\n",
       "      <th>소재지도로명주소</th>\n",
       "      <th>소재지지번주소</th>\n",
       "      <th>운영기관명</th>\n",
       "      <th>전화번호</th>\n",
       "      <th>급식장소</th>\n",
       "      <th>급식대상</th>\n",
       "      <th>급식시간</th>\n",
       "      <th>위도</th>\n",
       "      <th>경도</th>\n",
       "      <th>데이터기준일자</th>\n",
       "      <th>제공기관코드</th>\n",
       "      <th>제공기관명</th>\n",
       "      <th>급식요일</th>\n",
       "      <th>운영시작일자</th>\n",
       "      <th>운영종료일자</th>\n",
       "      <th>지역</th>\n",
       "    </tr>\n",
       "  </thead>\n",
       "  <tbody>\n",
       "    <tr>\n",
       "      <th>1227</th>\n",
       "      <td>1259</td>\n",
       "      <td>따사모 봉사단</td>\n",
       "      <td>충청남도 아산시 온천대로 1496</td>\n",
       "      <td>충청남도 아산시 온천동 56-9</td>\n",
       "      <td>따사모 봉사단</td>\n",
       "      <td>041-549-7477</td>\n",
       "      <td>온양온천역 하부공간 (월요일)</td>\n",
       "      <td>기초수급자 노인, 차상위계층 노인, 저소득 독거노인</td>\n",
       "      <td>중식(12:00~13:00)</td>\n",
       "      <td>36.7804683</td>\n",
       "      <td>127.0034511</td>\n",
       "      <td>2020-09-14</td>\n",
       "      <td>4520000</td>\n",
       "      <td>충청남도 아산시</td>\n",
       "      <td>2,3,4주 월</td>\n",
       "      <td></td>\n",
       "      <td></td>\n",
       "      <td>충청남도</td>\n",
       "    </tr>\n",
       "    <tr>\n",
       "      <th>1228</th>\n",
       "      <td>1260</td>\n",
       "      <td>아산시번영회</td>\n",
       "      <td>충청남도 아산시 온천대로 1496</td>\n",
       "      <td>충청남도 아산시 온천동 56-9</td>\n",
       "      <td>아산시번영회</td>\n",
       "      <td>041-545-2009</td>\n",
       "      <td>온양온천역 하부공간 (화요일)</td>\n",
       "      <td>기초수급자 노인, 차상위계층 노인, 저소득 독거노인</td>\n",
       "      <td>중식(12:00~13:00)</td>\n",
       "      <td>36.7804683</td>\n",
       "      <td>127.0034511</td>\n",
       "      <td>2020-09-14</td>\n",
       "      <td>4520000</td>\n",
       "      <td>충청남도 아산시</td>\n",
       "      <td>화</td>\n",
       "      <td></td>\n",
       "      <td></td>\n",
       "      <td>충청남도</td>\n",
       "    </tr>\n",
       "    <tr>\n",
       "      <th>1229</th>\n",
       "      <td>1261</td>\n",
       "      <td>나눔과 기쁨 아산지부</td>\n",
       "      <td>충청남도 아산시 온천대로 1496</td>\n",
       "      <td>충청남도 아산시 온천동 56-9</td>\n",
       "      <td>나눔과 기쁨 아산지부</td>\n",
       "      <td>041-541-5080</td>\n",
       "      <td>온양온천역 하부공간 (수요일)</td>\n",
       "      <td>기초수급자 노인, 차상위계층 노인, 저소득 독거노인</td>\n",
       "      <td>중식(12:00~13:00)</td>\n",
       "      <td>36.7804683</td>\n",
       "      <td>127.0034511</td>\n",
       "      <td>2020-09-14</td>\n",
       "      <td>4520000</td>\n",
       "      <td>충청남도 아산시</td>\n",
       "      <td>수</td>\n",
       "      <td></td>\n",
       "      <td></td>\n",
       "      <td>충청남도</td>\n",
       "    </tr>\n",
       "    <tr>\n",
       "      <th>1230</th>\n",
       "      <td>1262</td>\n",
       "      <td>아산 상록회</td>\n",
       "      <td>충청남도 아산시 온천대로 1496</td>\n",
       "      <td>충청남도 아산시 온천동 56-9</td>\n",
       "      <td>아산 상록회</td>\n",
       "      <td>041-542-8893</td>\n",
       "      <td>온양온천역 하부공간 (목요일)</td>\n",
       "      <td>기초수급자 노인, 차상위계층 노인, 저소득 독거노인</td>\n",
       "      <td>중식(12:00~13:00)</td>\n",
       "      <td>36.7804683</td>\n",
       "      <td>127.0034511</td>\n",
       "      <td>2020-09-14</td>\n",
       "      <td>4520000</td>\n",
       "      <td>충청남도 아산시</td>\n",
       "      <td>목</td>\n",
       "      <td></td>\n",
       "      <td></td>\n",
       "      <td>충청남도</td>\n",
       "    </tr>\n",
       "    <tr>\n",
       "      <th>1231</th>\n",
       "      <td>1263</td>\n",
       "      <td>해피데이</td>\n",
       "      <td>충청남도 아산시 온천대로 1496</td>\n",
       "      <td>충청남도 아산시 온천동 56-9</td>\n",
       "      <td>해피데이</td>\n",
       "      <td></td>\n",
       "      <td>온양온천역 하부공간 (금요일)</td>\n",
       "      <td>기초수급자 노인, 차상위계층 노인, 저소득 독거노인</td>\n",
       "      <td>중식(12:00~13:00)</td>\n",
       "      <td>36.7804683</td>\n",
       "      <td>127.0034511</td>\n",
       "      <td>2020-09-14</td>\n",
       "      <td>4520000</td>\n",
       "      <td>충청남도 아산시</td>\n",
       "      <td>금</td>\n",
       "      <td></td>\n",
       "      <td></td>\n",
       "      <td>충청남도</td>\n",
       "    </tr>\n",
       "  </tbody>\n",
       "</table>\n",
       "</div>"
      ],
      "text/plain": [
       "      index          시설명            소재지도로명주소            소재지지번주소        운영기관명  \\\n",
       "1227   1259      따사모 봉사단  충청남도 아산시 온천대로 1496  충청남도 아산시 온천동 56-9      따사모 봉사단   \n",
       "1228   1260       아산시번영회  충청남도 아산시 온천대로 1496  충청남도 아산시 온천동 56-9       아산시번영회   \n",
       "1229   1261  나눔과 기쁨 아산지부  충청남도 아산시 온천대로 1496  충청남도 아산시 온천동 56-9  나눔과 기쁨 아산지부   \n",
       "1230   1262       아산 상록회  충청남도 아산시 온천대로 1496  충청남도 아산시 온천동 56-9       아산 상록회   \n",
       "1231   1263         해피데이  충청남도 아산시 온천대로 1496  충청남도 아산시 온천동 56-9         해피데이   \n",
       "\n",
       "              전화번호              급식장소                          급식대상  \\\n",
       "1227  041-549-7477  온양온천역 하부공간 (월요일)  기초수급자 노인, 차상위계층 노인, 저소득 독거노인   \n",
       "1228  041-545-2009  온양온천역 하부공간 (화요일)  기초수급자 노인, 차상위계층 노인, 저소득 독거노인   \n",
       "1229  041-541-5080  온양온천역 하부공간 (수요일)  기초수급자 노인, 차상위계층 노인, 저소득 독거노인   \n",
       "1230  041-542-8893  온양온천역 하부공간 (목요일)  기초수급자 노인, 차상위계층 노인, 저소득 독거노인   \n",
       "1231                온양온천역 하부공간 (금요일)  기초수급자 노인, 차상위계층 노인, 저소득 독거노인   \n",
       "\n",
       "                 급식시간          위도           경도     데이터기준일자   제공기관코드     제공기관명  \\\n",
       "1227  중식(12:00~13:00)  36.7804683  127.0034511  2020-09-14  4520000  충청남도 아산시   \n",
       "1228  중식(12:00~13:00)  36.7804683  127.0034511  2020-09-14  4520000  충청남도 아산시   \n",
       "1229  중식(12:00~13:00)  36.7804683  127.0034511  2020-09-14  4520000  충청남도 아산시   \n",
       "1230  중식(12:00~13:00)  36.7804683  127.0034511  2020-09-14  4520000  충청남도 아산시   \n",
       "1231  중식(12:00~13:00)  36.7804683  127.0034511  2020-09-14  4520000  충청남도 아산시   \n",
       "\n",
       "          급식요일 운영시작일자 운영종료일자    지역  \n",
       "1227  2,3,4주 월                충청남도  \n",
       "1228         화                충청남도  \n",
       "1229         수                충청남도  \n",
       "1230         목                충청남도  \n",
       "1231         금                충청남도  "
      ]
     },
     "execution_count": 14,
     "metadata": {},
     "output_type": "execute_result"
    }
   ],
   "source": [
    "# 아래와 같이 같은 급식장소를 여러 시설명(단체) 들이 돌아가면서 운영하고있다.\n",
    "df[df['소재지도로명주소'] == '충청남도 아산시 온천대로 1496']"
   ]
  },
  {
   "cell_type": "markdown",
   "metadata": {},
   "source": [
    "- 아래와 같이 교회, 경로당, 복지관에서 많은 운영을 하고 있음을 알 수 있었다."
   ]
  },
  {
   "cell_type": "code",
   "execution_count": 15,
   "metadata": {},
   "outputs": [
    {
     "data": {
      "text/html": [
       "<div>\n",
       "<style scoped>\n",
       "    .dataframe tbody tr th:only-of-type {\n",
       "        vertical-align: middle;\n",
       "    }\n",
       "\n",
       "    .dataframe tbody tr th {\n",
       "        vertical-align: top;\n",
       "    }\n",
       "\n",
       "    .dataframe thead th {\n",
       "        text-align: right;\n",
       "    }\n",
       "</style>\n",
       "<table border=\"1\" class=\"dataframe\">\n",
       "  <thead>\n",
       "    <tr style=\"text-align: right;\">\n",
       "      <th></th>\n",
       "      <th>교회</th>\n",
       "      <th>복지관</th>\n",
       "      <th>경로당</th>\n",
       "    </tr>\n",
       "  </thead>\n",
       "  <tbody>\n",
       "    <tr>\n",
       "      <th>0</th>\n",
       "      <td>118</td>\n",
       "      <td>502</td>\n",
       "      <td>86</td>\n",
       "    </tr>\n",
       "  </tbody>\n",
       "</table>\n",
       "</div>"
      ],
      "text/plain": [
       "    교회  복지관  경로당\n",
       "0  118  502   86"
      ]
     },
     "execution_count": 15,
     "metadata": {},
     "output_type": "execute_result"
    }
   ],
   "source": [
    "pd.DataFrame({'교회': [sum(df['운영기관명'].str.contains('교회'))],\n",
    "              '복지관': [sum(df['운영기관명'].str.contains('복지관'))],\n",
    "              '경로당': [sum(df['운영기관명'].str.contains('경로당'))]})"
   ]
  },
  {
   "cell_type": "markdown",
   "metadata": {},
   "source": [
    "- 운영기관명이나 시설명의 경우 매우 다양하기때문에 큰 정보를 구하기는 어려웠다.\n",
    "- 위 정도의 정보만 뽑는정도로 마무리하는게 좋을듯 하다. "
   ]
  },
  {
   "cell_type": "markdown",
   "metadata": {},
   "source": [
    "# 소재지도로명주소\n"
   ]
  },
  {
   "cell_type": "code",
   "execution_count": 16,
   "metadata": {
    "scrolled": true
   },
   "outputs": [
    {
     "data": {
      "text/plain": [
       "경기도 수원시 팔달구 덕영대로 924      5\n",
       "충청남도 아산시 온천대로 1496        5\n",
       "대전광역시 서구 월평북로 11          4\n",
       "대구광역시 달서구 대명천로 28         3\n",
       "대구광역시 북구 관음동로9길 10-25     3\n",
       "                         ..\n",
       "경상북도 구미시 문장로 110(도량동)     1\n",
       "서울특별시 도봉구 덕릉로 329         1\n",
       "서울특별시 성동구 뚝섬로1길 43        1\n",
       "전라남도 함평군 월야면 밀재로 1491     1\n",
       "서울특별시 양천구 가로공원 60가길 16    1\n",
       "Name: 소재지도로명주소, Length: 1268, dtype: int64"
      ]
     },
     "execution_count": 16,
     "metadata": {},
     "output_type": "execute_result"
    }
   ],
   "source": [
    "# 도로명주소가 겹치는것이 많다.\n",
    "df['소재지도로명주소'].value_counts()"
   ]
  },
  {
   "cell_type": "code",
   "execution_count": 17,
   "metadata": {},
   "outputs": [
    {
     "data": {
      "text/plain": [
       "대구광역시 서구 서대구로41길 10 (평리동)             2\n",
       "대구광역시 중구 공평로8길 15(삼덕동2가)              2\n",
       "경기도 양평군 양평읍 시민로39번길 19                2\n",
       "울산광역시 남구 봉월로 149                      2\n",
       "대구광역시 서구 통학로20길 6 (평리동)               2\n",
       "대구광역시 남구 대봉로 108                      2\n",
       "전라북도 부안군 부안읍 서외길 17                   2\n",
       "전라북도 군산시 문화로 36                       2\n",
       "전라북도 남원시 노송로 1255-9                   2\n",
       "울산광역시 중구 성안2길 31(성안동)                 2\n",
       "울산광역시 울주군 온산읍 신온1길 3-12               2\n",
       "울산광역시 울주군 범서읍 천상3길 7                  2\n",
       "대전광역시 서구 도솔로 182                      2\n",
       "광주광역시 북구 중문로 55(우산동)                  2\n",
       "울산광역시 울주군 온양읍 온양로 256-6               2\n",
       "대구광역시 남구 중앙대로 38길 17                  2\n",
       "전라북도 완주군 구이면 하학길 37-18                2\n",
       "울산광역시 중구 우정10길47-1(우정동)               2\n",
       "전라북도 전주시 덕진구 삼송5길 12                  2\n",
       "대구광역시 수성구 청수로45길 41(황금동, 황금3주공아파트)    2\n",
       "전라북도 전주시 완산구 덕적골 2길 10                2\n",
       "서울특별시 강서구 개화동로21길 4                   2\n",
       "대구광역시 달서구 학산로7길 39(월성동)               2\n",
       "대구광역시 수성구 용학로50길 46 (지산동)             2\n",
       "대구광역시 수성구 달구벌대로488길 13 (범어동)          2\n",
       "전라북도 전주시 완산구 모악로 4726                 2\n",
       "대구광역시 북구 연암로 183                      2\n",
       "울산광역시 남구 대학로1번길 3-51                  2\n",
       "경기도 광명시 설월로 10                        2\n",
       "전라북도 순창군 쌍치면 쌍계로 35                   2\n",
       "대구광역시 중구 문우관길 73 (남산2동)               2\n",
       "경기도 광명시 오리로 1018                      2\n",
       "전라북도 완주군 운주면 금고당로 186-13              2\n",
       "울산광역시 중구 해오름2길 50(남외동)                2\n",
       "울산광역시 동구 월봉10길 14                     2\n",
       "전라북도 전주시 완산구 공북로 101                  2\n",
       "대구광역시 달서구 신당로 56(신당동)                 2\n",
       "대구광역시 수성구 노변공원로 49-1 (노변동)            2\n",
       "울산광역시 동구 명덕6길 33                      2\n",
       "대구광역시 달서구 신당로 55(신당동)                 2\n",
       "전라북도 무주군 무주읍 한풍루로 425                 2\n",
       "광주광역시 광산구 송정로 52번길 20(도산동)            2\n",
       "대구광역시 달서구 월곡로26길 15-4(상인동)            2\n",
       "대구광역시 달서구 와룡로2길 42(본동)                2\n",
       "대전광역시 서구 남선로 66                       2\n",
       "전라북도 전주시 완산구 관선1길 60                  2\n",
       "울산광역시 남구 봉월로38번길 15                   2\n",
       "경기도 하남시 대청로 10                        2\n",
       "전라북도 남원시 금동로 50                       2\n",
       "울산광역시 중구 병영9길5(동동)                    2\n",
       "광주광역시 북구 북문대로 70(운암동)                 2\n",
       "전라북도 전주시 완산구 평화14길 27-53              2\n",
       "울산광역시 울주군 삼동면 사촌길 2                   2\n",
       "울산광역시 울주군 언양읍 장터1길 5                  2\n",
       "울산광역시 동구 진성12길 120                    2\n",
       "대구광역시 중구 태평로210 (성내1동)                2\n",
       "울산광역시 동구 남목5길 16                      2\n",
       "울산광역시 울주군 범서읍 점촌5길 42                 2\n",
       "울산광역시 중구 다운7길 78(다운동)                 2\n",
       "전라북도 정읍시 신태인읍 신태인중앙로 40               2\n",
       "광주광역시 북구 양일로 76-1(양산동)                2\n",
       "대구광역시 수성구 청호로84길 71(범어동)              2\n",
       "대구광역시 남구 이천로28길 8-52(이천동)             2\n",
       "전라북도 전주시 덕진구 안골1길 11                  2\n",
       "전라북도 전주시 덕진구 가리내로 42-13               2\n",
       "대구광역시 남구 대덕초등길 66                     2\n",
       "대구광역시 수성구 범안로 79 (범물동, 범물용지아파트)       2\n",
       "인천광역시 동구 운교로15번길 5(화수동)               2\n",
       "대구광역시 남구 큰골길 137                      2\n",
       "대구광역시 중구 국채보상로102길 50                 2\n",
       "울산광역시 중구 종가3길 15(유곡동)                 2\n",
       "울산광역시 동구 봉수로 24                       2\n",
       "전라북도 진안군 진안읍 진무로 1189-1               2\n",
       "전라북도 익산시 동서로 103                      2\n",
       "전라북도 임실군 관촌면 사선1길 24                  2\n",
       "대구광역시 달서구 상화로 371(상인동)                2\n",
       "전라북도 군산시 중앙로 44-8                     2\n",
       "대구광역시 달서구 월성로 77(월성동)                 2\n",
       "광주광역시 북구 동운로 213번길 22(운암동)            2\n",
       "광주광역시 북구 서하로 194번길 6(오치동)             2\n",
       "울산광역시 울주군 삼남면 서향교2길 50                2\n",
       "전라북도 완주군 화산면 화산로 830-24               2\n",
       "전라북도 군산시 둔배미길 29                      2\n",
       "전라북도 전주시 완산구 덕적골 2길 25                2\n",
       "울산광역시 중구 한울길5(복산동)                    2\n",
       "전라북도 익산시 서동로11길 37                    2\n",
       "광주광역시 광산구 목련로 156(운남동)                2\n",
       "대구광역시 중구 태평로 297                      2\n",
       "전라북도 임실군 임실읍 운수로 33-46                2\n",
       "울산광역시 울주군 상북면 상북로 296                 2\n",
       "광주광역시 남구 대남대로308번길 32(월산동)            2\n",
       "광주광역시 북구 군왕로 130번길 30(두암동)            2\n",
       "광주광역시 북구 군왕로 168번길 50(두암동)            2\n",
       "전라북도 전주시 덕진구 송천중앙로 36                 2\n",
       "대구광역시 서구 서대구로3길 29-4 (내당동)            2\n",
       "전라북도 전주시 완산구 성지산로 55                  2\n",
       "광주광역시 남구 제중로 92(서동)                   2\n",
       "광주광역시 북구 삼정로 7(두암동)                   2\n",
       "울산광역시 북구 화봉로 73                       2\n",
       "울산광역시 남구 선암호수길 150                    2\n",
       "울산광역시 중구 도서관길42(북정동)                  2\n",
       "경기도 광명시 하안로 238                       2\n",
       "울산광역시 중구 난곡10길 22(태화동)                2\n",
       "전라북도 익산시 익산대로 194-9                   2\n",
       "울산광역시 중구 내황4길38(반구동)                  2\n",
       "전라북도 임실군 오수면 삼일로 27                   2\n",
       "대구광역시 달서구 송현로 113(송현동)                2\n",
       "전라북도 순창군 순창읍 순창9길 23                  2\n",
       "전라북도 익산시 동천로7길 26-1                   2\n",
       "광주광역시 남구 제중로 24-10(양림동)               2\n",
       "전라북도 군산시 백릉로 245                      2\n",
       "울산광역시 남구 대암로129번길 4                   2\n",
       "울산광역시 북구 새장터8길 21-4                   2\n",
       "울산광역시 북구 동대8길 40                      2\n",
       "울산광역시 남구 번영로107번길 13                  2\n",
       "대전광역시 서구 둔산로 241                      2\n",
       "전라북도 전주시 완산구 따박골5길 36                 2\n",
       "울산광역시 중구 중앙1길16(성남동)                  2\n",
       "대구광역시 남구 중앙대로 126                     2\n",
       "전라북도 익산시 무왕로22길 12                    2\n",
       "울산광역시 남구 중앙로258번길 51                  2\n",
       "대구광역시 수성구 용학로 325 (지산동, 지산5단지아파트)     2\n",
       "울산광역시 동구 꽃바위로 356                     2\n",
       "충청남도 보령시 보령북로 59                      2\n",
       "전라북도 전주시 덕진구 덕진연못1길 9-5               2\n",
       "경기도 광명시 소하로 25                        2\n",
       "대구광역시 수성구 교학로4길 39 (만촌동)              2\n",
       "Name: 소재지도로명주소, dtype: int64"
      ]
     },
     "execution_count": 17,
     "metadata": {},
     "output_type": "execute_result"
    }
   ],
   "source": [
    "df['소재지도로명주소'].value_counts()[df['소재지도로명주소'].value_counts() == 2]"
   ]
  },
  {
   "cell_type": "markdown",
   "metadata": {},
   "source": [
    "## Issue"
   ]
  },
  {
   "cell_type": "markdown",
   "metadata": {},
   "source": [
    "- 소재재지 도로명 주소가 같음에도 시설명이 다른것은, 같은 장소를 다른 업체에서 운영했기 떄문이다."
   ]
  },
  {
   "cell_type": "code",
   "execution_count": 18,
   "metadata": {
    "scrolled": true
   },
   "outputs": [
    {
     "data": {
      "text/html": [
       "<div>\n",
       "<style scoped>\n",
       "    .dataframe tbody tr th:only-of-type {\n",
       "        vertical-align: middle;\n",
       "    }\n",
       "\n",
       "    .dataframe tbody tr th {\n",
       "        vertical-align: top;\n",
       "    }\n",
       "\n",
       "    .dataframe thead th {\n",
       "        text-align: right;\n",
       "    }\n",
       "</style>\n",
       "<table border=\"1\" class=\"dataframe\">\n",
       "  <thead>\n",
       "    <tr style=\"text-align: right;\">\n",
       "      <th></th>\n",
       "      <th>index</th>\n",
       "      <th>시설명</th>\n",
       "      <th>소재지도로명주소</th>\n",
       "      <th>소재지지번주소</th>\n",
       "      <th>운영기관명</th>\n",
       "      <th>전화번호</th>\n",
       "      <th>급식장소</th>\n",
       "      <th>급식대상</th>\n",
       "      <th>급식시간</th>\n",
       "      <th>위도</th>\n",
       "      <th>경도</th>\n",
       "      <th>데이터기준일자</th>\n",
       "      <th>제공기관코드</th>\n",
       "      <th>제공기관명</th>\n",
       "      <th>급식요일</th>\n",
       "      <th>운영시작일자</th>\n",
       "      <th>운영종료일자</th>\n",
       "      <th>지역</th>\n",
       "    </tr>\n",
       "  </thead>\n",
       "  <tbody>\n",
       "    <tr>\n",
       "      <th>1146</th>\n",
       "      <td>1178</td>\n",
       "      <td>한벗교회</td>\n",
       "      <td>경기도 수원시 팔달구 덕영대로 924</td>\n",
       "      <td>경기도 수원시 팔달구 매산동 매산로1가 18</td>\n",
       "      <td>한벗교회</td>\n",
       "      <td>031-296-4740</td>\n",
       "      <td>무한돌봄 정나눔터</td>\n",
       "      <td>노숙인</td>\n",
       "      <td>조식(07:30~08:30)</td>\n",
       "      <td>37.26567858</td>\n",
       "      <td>127.0000947</td>\n",
       "      <td>2020-08-01</td>\n",
       "      <td>3740000</td>\n",
       "      <td>경기도 수원시</td>\n",
       "      <td>월+화+수+목+금+토</td>\n",
       "      <td>2014-01-28</td>\n",
       "      <td></td>\n",
       "      <td>경기도</td>\n",
       "    </tr>\n",
       "    <tr>\n",
       "      <th>1147</th>\n",
       "      <td>1179</td>\n",
       "      <td>함께하는교회(광야119)</td>\n",
       "      <td>경기도 수원시 팔달구 덕영대로 924</td>\n",
       "      <td>경기도 수원시 팔달구 매산동 매산로1가 18</td>\n",
       "      <td>함께하는교회(광야119)</td>\n",
       "      <td>031-254-2119</td>\n",
       "      <td>무한돌봄 정나눔터</td>\n",
       "      <td>노숙인</td>\n",
       "      <td>석식(19:30~20:30)</td>\n",
       "      <td>37.26567858</td>\n",
       "      <td>127.0000947</td>\n",
       "      <td>2020-08-01</td>\n",
       "      <td>3740000</td>\n",
       "      <td>경기도 수원시</td>\n",
       "      <td>월+화+수+목+금+토</td>\n",
       "      <td>2014-01-28</td>\n",
       "      <td></td>\n",
       "      <td>경기도</td>\n",
       "    </tr>\n",
       "    <tr>\n",
       "      <th>1148</th>\n",
       "      <td>1180</td>\n",
       "      <td>성령충만교회</td>\n",
       "      <td>경기도 수원시 팔달구 덕영대로 924</td>\n",
       "      <td>경기도 수원시 팔달구 매산동 매산로1가 18</td>\n",
       "      <td>성령충만교회</td>\n",
       "      <td>031-207-6683</td>\n",
       "      <td>무한돌봄 정나눔터</td>\n",
       "      <td>노숙인</td>\n",
       "      <td>석식(19:30~20:30)</td>\n",
       "      <td>37.26567858</td>\n",
       "      <td>127.0000947</td>\n",
       "      <td>2020-08-01</td>\n",
       "      <td>3740000</td>\n",
       "      <td>경기도 수원시</td>\n",
       "      <td>월</td>\n",
       "      <td>2014-01-28</td>\n",
       "      <td></td>\n",
       "      <td>경기도</td>\n",
       "    </tr>\n",
       "    <tr>\n",
       "      <th>1149</th>\n",
       "      <td>1181</td>\n",
       "      <td>사랑을 만드는사람들</td>\n",
       "      <td>경기도 수원시 팔달구 덕영대로 924</td>\n",
       "      <td>경기도 수원시 팔달구 매산동 매산로1가 18</td>\n",
       "      <td>사랑을 만드는사람들</td>\n",
       "      <td>031-207-6683</td>\n",
       "      <td>무한돌봄 정나눔터</td>\n",
       "      <td>노숙인</td>\n",
       "      <td>조식(07:30~08:30)</td>\n",
       "      <td>37.26567858</td>\n",
       "      <td>127.0000947</td>\n",
       "      <td>2020-08-01</td>\n",
       "      <td>3740000</td>\n",
       "      <td>경기도 수원시</td>\n",
       "      <td>첫째주 일+셋째주 일</td>\n",
       "      <td>2014-01-28</td>\n",
       "      <td></td>\n",
       "      <td>경기도</td>\n",
       "    </tr>\n",
       "    <tr>\n",
       "      <th>1150</th>\n",
       "      <td>1182</td>\n",
       "      <td>송선화집사</td>\n",
       "      <td>경기도 수원시 팔달구 덕영대로 924</td>\n",
       "      <td>경기도 수원시 팔달구 매산동 매산로1가 18</td>\n",
       "      <td>송선화집사</td>\n",
       "      <td>031-207-6683</td>\n",
       "      <td>무한돌봄 정나눔터</td>\n",
       "      <td>노숙인</td>\n",
       "      <td>중식(12:00-13:00)</td>\n",
       "      <td>37.26567858</td>\n",
       "      <td>127.0000947</td>\n",
       "      <td>2020-08-01</td>\n",
       "      <td>3740000</td>\n",
       "      <td>경기도 수원시</td>\n",
       "      <td>월</td>\n",
       "      <td>2014-01-28</td>\n",
       "      <td></td>\n",
       "      <td>경기도</td>\n",
       "    </tr>\n",
       "  </tbody>\n",
       "</table>\n",
       "</div>"
      ],
      "text/plain": [
       "      index            시설명              소재지도로명주소                   소재지지번주소  \\\n",
       "1146   1178           한벗교회  경기도 수원시 팔달구 덕영대로 924  경기도 수원시 팔달구 매산동 매산로1가 18   \n",
       "1147   1179  함께하는교회(광야119)  경기도 수원시 팔달구 덕영대로 924  경기도 수원시 팔달구 매산동 매산로1가 18   \n",
       "1148   1180         성령충만교회  경기도 수원시 팔달구 덕영대로 924  경기도 수원시 팔달구 매산동 매산로1가 18   \n",
       "1149   1181     사랑을 만드는사람들  경기도 수원시 팔달구 덕영대로 924  경기도 수원시 팔달구 매산동 매산로1가 18   \n",
       "1150   1182          송선화집사  경기도 수원시 팔달구 덕영대로 924  경기도 수원시 팔달구 매산동 매산로1가 18   \n",
       "\n",
       "              운영기관명          전화번호       급식장소 급식대상             급식시간  \\\n",
       "1146           한벗교회  031-296-4740  무한돌봄 정나눔터  노숙인  조식(07:30~08:30)   \n",
       "1147  함께하는교회(광야119)  031-254-2119  무한돌봄 정나눔터  노숙인  석식(19:30~20:30)   \n",
       "1148         성령충만교회  031-207-6683  무한돌봄 정나눔터  노숙인  석식(19:30~20:30)   \n",
       "1149     사랑을 만드는사람들  031-207-6683  무한돌봄 정나눔터  노숙인  조식(07:30~08:30)   \n",
       "1150          송선화집사  031-207-6683  무한돌봄 정나눔터  노숙인  중식(12:00-13:00)   \n",
       "\n",
       "               위도           경도     데이터기준일자   제공기관코드    제공기관명         급식요일  \\\n",
       "1146  37.26567858  127.0000947  2020-08-01  3740000  경기도 수원시  월+화+수+목+금+토   \n",
       "1147  37.26567858  127.0000947  2020-08-01  3740000  경기도 수원시  월+화+수+목+금+토   \n",
       "1148  37.26567858  127.0000947  2020-08-01  3740000  경기도 수원시            월   \n",
       "1149  37.26567858  127.0000947  2020-08-01  3740000  경기도 수원시  첫째주 일+셋째주 일   \n",
       "1150  37.26567858  127.0000947  2020-08-01  3740000  경기도 수원시            월   \n",
       "\n",
       "          운영시작일자 운영종료일자   지역  \n",
       "1146  2014-01-28         경기도  \n",
       "1147  2014-01-28         경기도  \n",
       "1148  2014-01-28         경기도  \n",
       "1149  2014-01-28         경기도  \n",
       "1150  2014-01-28         경기도  "
      ]
     },
     "execution_count": 18,
     "metadata": {},
     "output_type": "execute_result"
    }
   ],
   "source": [
    "df[df['소재지도로명주소'] == '경기도 수원시 팔달구 덕영대로 924']"
   ]
  },
  {
   "cell_type": "markdown",
   "metadata": {},
   "source": [
    "- 지번주소가 같은데, 도로명주소가 다른경우가 존재할까?"
   ]
  },
  {
   "cell_type": "code",
   "execution_count": 19,
   "metadata": {
    "scrolled": true
   },
   "outputs": [
    {
     "data": {
      "text/plain": [
       "1     1081\n",
       "2       27\n",
       "82       1\n",
       "Name: 소재지도로명주소, dtype: int64"
      ]
     },
     "execution_count": 19,
     "metadata": {},
     "output_type": "execute_result"
    }
   ],
   "source": [
    "df.groupby('소재지지번주소')['소재지도로명주소'].nunique().value_counts() "
   ]
  },
  {
   "cell_type": "markdown",
   "metadata": {},
   "source": [
    "존재하는듯 했지만, 아래와 같이 살펴본결과 아주 표기상의 오차일뿐 모두 일치했다."
   ]
  },
  {
   "cell_type": "code",
   "execution_count": 20,
   "metadata": {
    "scrolled": true
   },
   "outputs": [],
   "source": [
    "df_num = df.groupby('소재지지번주소')['소재지도로명주소'].nunique() >1\n",
    "df_address = df.groupby('소재지지번주소')['소재지도로명주소'].nunique()[df_num]"
   ]
  },
  {
   "cell_type": "code",
   "execution_count": 21,
   "metadata": {
    "scrolled": true
   },
   "outputs": [],
   "source": [
    "#for adrs in df_address.index:\n",
    "#    display(df[df['소재지지번주소']==adrs])"
   ]
  },
  {
   "cell_type": "markdown",
   "metadata": {},
   "source": [
    "# 소재지지번주소"
   ]
  },
  {
   "cell_type": "markdown",
   "metadata": {},
   "source": [
    "- 만약 소재지 도로명 주소가 같으면 소재지 지번주소도 같아야 할 것이다.\n",
    "- 하지만 그렇지 않은 경우가 존재했다.\n",
    "    - 소재지 지번이 같음 -> 도로명 주소가 같음\n",
    "    - 도로명 주소가 같음 -> 소재지 지번이 다를떄도 있음"
   ]
  },
  {
   "cell_type": "code",
   "execution_count": 331,
   "metadata": {
    "scrolled": true
   },
   "outputs": [
    {
     "data": {
      "text/plain": [
       "1    1205\n",
       "0      57\n",
       "2       6\n",
       "Name: 소재지지번주소, dtype: int64"
      ]
     },
     "execution_count": 331,
     "metadata": {},
     "output_type": "execute_result"
    }
   ],
   "source": [
    "# 소재지 도로명 주소가 같을때에 소재지 지번주소가 다른 데이터가 2개 존재한다.\n",
    "df.groupby('소재지도로명주소')['소재지지번주소'].nunique().value_counts() "
   ]
  },
  {
   "cell_type": "code",
   "execution_count": 332,
   "metadata": {
    "scrolled": false
   },
   "outputs": [
    {
     "data": {
      "text/plain": [
       "소재지도로명주소\n",
       "광주광역시 광산구 송정로 52번길 20(도산동)    2\n",
       "광주광역시 남구 제중로 24-10(양림동)       2\n",
       "대구광역시 북구 관음동로9길 10-25         2\n",
       "대전광역시 서구 월평북로 11              2\n",
       "서울특별시 강서구 개화동로21길 4           2\n",
       "전라북도 군산시 백릉로 245              2\n",
       "Name: 소재지지번주소, dtype: int64"
      ]
     },
     "execution_count": 332,
     "metadata": {},
     "output_type": "execute_result"
    }
   ],
   "source": [
    "df_num = df.groupby('소재지도로명주소')['소재지지번주소'].nunique() ==2\n",
    "df.groupby('소재지도로명주소')['소재지지번주소'].nunique()[df_num]"
   ]
  },
  {
   "cell_type": "markdown",
   "metadata": {},
   "source": [
    "- 지도 시각화를 통해서, 소재지 도로명주소에 대해서 일치하는지에 대해서 좀 알아봐야될거같긴 하다."
   ]
  },
  {
   "cell_type": "code",
   "execution_count": 333,
   "metadata": {
    "scrolled": false
   },
   "outputs": [
    {
     "data": {
      "text/html": [
       "<div>\n",
       "<style scoped>\n",
       "    .dataframe tbody tr th:only-of-type {\n",
       "        vertical-align: middle;\n",
       "    }\n",
       "\n",
       "    .dataframe tbody tr th {\n",
       "        vertical-align: top;\n",
       "    }\n",
       "\n",
       "    .dataframe thead th {\n",
       "        text-align: right;\n",
       "    }\n",
       "</style>\n",
       "<table border=\"1\" class=\"dataframe\">\n",
       "  <thead>\n",
       "    <tr style=\"text-align: right;\">\n",
       "      <th></th>\n",
       "      <th>index</th>\n",
       "      <th>시설명</th>\n",
       "      <th>소재지도로명주소</th>\n",
       "      <th>소재지지번주소</th>\n",
       "      <th>운영기관명</th>\n",
       "      <th>전화번호</th>\n",
       "      <th>급식장소</th>\n",
       "      <th>급식대상</th>\n",
       "      <th>급식시간</th>\n",
       "      <th>위도</th>\n",
       "      <th>경도</th>\n",
       "      <th>데이터기준일자</th>\n",
       "      <th>제공기관코드</th>\n",
       "      <th>제공기관명</th>\n",
       "      <th>급식요일</th>\n",
       "      <th>운영시작일자</th>\n",
       "      <th>운영종료일자</th>\n",
       "      <th>지역</th>\n",
       "    </tr>\n",
       "  </thead>\n",
       "  <tbody>\n",
       "    <tr>\n",
       "      <th>812</th>\n",
       "      <td>812</td>\n",
       "      <td>광산구행복나루노인복지관</td>\n",
       "      <td>광주광역시 광산구 송정로 52번길 20(도산동)</td>\n",
       "      <td>광주광역시 광산구 도산동883-28</td>\n",
       "      <td>광산구행복나루노인복지관</td>\n",
       "      <td>062-942-3663</td>\n",
       "      <td>광산구행복나루노인복지관</td>\n",
       "      <td>독거노인, 결식노인, 저소득어르신 등</td>\n",
       "      <td>중식(11:30~12:30)</td>\n",
       "      <td>35.134753</td>\n",
       "      <td>126.795358</td>\n",
       "      <td>2019-06-19</td>\n",
       "      <td>6290000</td>\n",
       "      <td>광주광역시</td>\n",
       "      <td>월~토</td>\n",
       "      <td>2017-01-01</td>\n",
       "      <td>NaN</td>\n",
       "      <td>광주광역시</td>\n",
       "    </tr>\n",
       "    <tr>\n",
       "      <th>1253</th>\n",
       "      <td>1285</td>\n",
       "      <td>행복나루노인복지관</td>\n",
       "      <td>광주광역시 광산구 송정로 52번길 20(도산동)</td>\n",
       "      <td>광주광역시 광산구 도산동 925-1</td>\n",
       "      <td>행복나루노인복지관</td>\n",
       "      <td>062-942-3663</td>\n",
       "      <td>행복나루노인복지관</td>\n",
       "      <td>결식우려가 있는 저소득층 노인</td>\n",
       "      <td>중식(11:40~12:40)</td>\n",
       "      <td>35.1348590779</td>\n",
       "      <td>126.7951506782</td>\n",
       "      <td>2020-07-10</td>\n",
       "      <td>3630000</td>\n",
       "      <td>광주광역시 광산구</td>\n",
       "      <td>월~토(법정 공휴일제외)</td>\n",
       "      <td>2020-01-01</td>\n",
       "      <td>2020-12-31</td>\n",
       "      <td>광주광역시</td>\n",
       "    </tr>\n",
       "  </tbody>\n",
       "</table>\n",
       "</div>"
      ],
      "text/plain": [
       "      index           시설명  \\\n",
       "812     812  광산구행복나루노인복지관   \n",
       "1253   1285     행복나루노인복지관   \n",
       "\n",
       "                        소재지도로명주소  \\\n",
       "812   광주광역시 광산구 송정로 52번길 20(도산동)   \n",
       "1253  광주광역시 광산구 송정로 52번길 20(도산동)   \n",
       "\n",
       "                  소재지지번주소  \\\n",
       "812   광주광역시 광산구 도산동883-28   \n",
       "1253  광주광역시 광산구 도산동 925-1   \n",
       "\n",
       "             운영기관명  \\\n",
       "812   광산구행복나루노인복지관   \n",
       "1253     행복나루노인복지관   \n",
       "\n",
       "              전화번호  \\\n",
       "812   062-942-3663   \n",
       "1253  062-942-3663   \n",
       "\n",
       "              급식장소  \\\n",
       "812   광산구행복나루노인복지관   \n",
       "1253     행복나루노인복지관   \n",
       "\n",
       "                      급식대상  \\\n",
       "812   독거노인, 결식노인, 저소득어르신 등   \n",
       "1253      결식우려가 있는 저소득층 노인   \n",
       "\n",
       "                 급식시간  \\\n",
       "812   중식(11:30~12:30)   \n",
       "1253  중식(11:40~12:40)   \n",
       "\n",
       "                 위도  \\\n",
       "812       35.134753   \n",
       "1253  35.1348590779   \n",
       "\n",
       "                  경도  \\\n",
       "812       126.795358   \n",
       "1253  126.7951506782   \n",
       "\n",
       "         데이터기준일자   제공기관코드  \\\n",
       "812   2019-06-19  6290000   \n",
       "1253  2020-07-10  3630000   \n",
       "\n",
       "          제공기관명  \\\n",
       "812       광주광역시   \n",
       "1253  광주광역시 광산구   \n",
       "\n",
       "               급식요일  \\\n",
       "812             월~토   \n",
       "1253  월~토(법정 공휴일제외)   \n",
       "\n",
       "          운영시작일자  \\\n",
       "812   2017-01-01   \n",
       "1253  2020-01-01   \n",
       "\n",
       "          운영종료일자     지역  \n",
       "812          NaN  광주광역시  \n",
       "1253  2020-12-31  광주광역시  "
      ]
     },
     "execution_count": 333,
     "metadata": {},
     "output_type": "execute_result"
    }
   ],
   "source": [
    "# 아래의 경우 소재지 지번주소가 도로명주소와 다르다.\n",
    "# 이는 한개의 표기방식이 틀렸음을 의미함.\n",
    "# 위/경도를 조사해본 결과 소재지 지번주소가 틀린것이였다.\n",
    "df[df['소재지도로명주소']=='광주광역시 광산구 송정로 52번길 20(도산동)']"
   ]
  },
  {
   "cell_type": "markdown",
   "metadata": {},
   "source": [
    "# 급식시간 처리"
   ]
  },
  {
   "cell_type": "markdown",
   "metadata": {},
   "source": [
    "- 데이터가 워낙 더러운 상태였기 때문에, 형식이 매우 이상한 경우가 많았다.\n",
    "- 이 경우를 모두 고려하면서 처리하기 위해서 아래와 같이 긴 처리과정이 필요했다."
   ]
  },
  {
   "cell_type": "markdown",
   "metadata": {},
   "source": [
    "## 공백 없애기"
   ]
  },
  {
   "cell_type": "markdown",
   "metadata": {},
   "source": [
    "- 급식시간의 경우 담당자의 실수로 필요치않는 공백이 있는 경우가 많았다.\n",
    "- dd:dd , dd :dd 등의 띄어쓰기로 인한 에러를 감안해야 하므로 공백을 없앤다"
   ]
  },
  {
   "cell_type": "code",
   "execution_count": 334,
   "metadata": {},
   "outputs": [
    {
     "data": {
      "text/plain": [
       "0            중식(11:30~12:30)\n",
       "1            중식(11:00~12:00)\n",
       "2            중식(11:30~12:30)\n",
       "3            중식(11:30~12:30)\n",
       "4            중식(11:30~12:30)\n",
       "5            중식(11:30~12:30)\n",
       "6                11:00~12:00\n",
       "7                11:00~12:00\n",
       "8    16:50~17:20+11:50~12:20\n",
       "9                11:00~12:00\n",
       "Name: 급식시간, dtype: object"
      ]
     },
     "execution_count": 334,
     "metadata": {},
     "output_type": "execute_result"
    }
   ],
   "source": [
    "df['급식시간'] = df['급식시간'].str.replace(' ','')\n",
    "df['급식시간'].head(n=10)"
   ]
  },
  {
   "cell_type": "markdown",
   "metadata": {},
   "source": [
    "## 형식 통일"
   ]
  },
  {
   "cell_type": "markdown",
   "metadata": {},
   "source": [
    "- dd~dd 와 dd-dd 형식이 혼재되어있는 관계로 둘의 형식을 통일하기 위해서 - 를 ~ 로 바꾸어주자"
   ]
  },
  {
   "cell_type": "code",
   "execution_count": 335,
   "metadata": {},
   "outputs": [],
   "source": [
    "df['급식시간'] = df['급식시간'].str.replace('-','~')"
   ]
  },
  {
   "cell_type": "markdown",
   "metadata": {},
   "source": [
    "## dd~dd 형식 처리"
   ]
  },
  {
   "cell_type": "markdown",
   "metadata": {},
   "source": [
    "- dd-dd / dd~dd 형식이 아닌 데이터가 얼마나 있는지 알아보자."
   ]
  },
  {
   "cell_type": "code",
   "execution_count": 336,
   "metadata": {
    "scrolled": false
   },
   "outputs": [
    {
     "name": "stderr",
     "output_type": "stream",
     "text": [
      "C:\\Users\\goran\\Anaconda3\\envs\\tensor\\lib\\site-packages\\pandas\\core\\strings\\accessor.py:101: UserWarning: This pattern has match groups. To actually get the groups, use str.extract.\n",
      "  return func(self, *args, **kwargs)\n"
     ]
    },
    {
     "data": {
      "text/plain": [
       "191"
      ]
     },
     "execution_count": 336,
     "metadata": {},
     "output_type": "execute_result"
    }
   ],
   "source": [
    "len(df['급식시간'])-sum(df['급식시간'].str.contains(r'(\\d{2}:\\d{2}~\\d{2}:\\d{2})',regex=True))"
   ]
  },
  {
   "cell_type": "markdown",
   "metadata": {},
   "source": [
    "- 191 개 가량이 있는것을 볼 수 있다.\n",
    "- 원래 데이터의 길이에 비하면 이정도는 어느정도 수작업이 가능해 보인다."
   ]
  },
  {
   "cell_type": "code",
   "execution_count": 337,
   "metadata": {
    "scrolled": false
   },
   "outputs": [
    {
     "data": {
      "text/html": [
       "<div>\n",
       "<style scoped>\n",
       "    .dataframe tbody tr th:only-of-type {\n",
       "        vertical-align: middle;\n",
       "    }\n",
       "\n",
       "    .dataframe tbody tr th {\n",
       "        vertical-align: top;\n",
       "    }\n",
       "\n",
       "    .dataframe thead th {\n",
       "        text-align: right;\n",
       "    }\n",
       "</style>\n",
       "<table border=\"1\" class=\"dataframe\">\n",
       "  <thead>\n",
       "    <tr style=\"text-align: right;\">\n",
       "      <th></th>\n",
       "      <th>0</th>\n",
       "      <th>1</th>\n",
       "      <th>2</th>\n",
       "    </tr>\n",
       "  </thead>\n",
       "  <tbody>\n",
       "    <tr>\n",
       "      <th>0</th>\n",
       "      <td>11:30~12:30</td>\n",
       "      <td>None</td>\n",
       "      <td>None</td>\n",
       "    </tr>\n",
       "    <tr>\n",
       "      <th>1</th>\n",
       "      <td>11:00~12:00</td>\n",
       "      <td>None</td>\n",
       "      <td>None</td>\n",
       "    </tr>\n",
       "    <tr>\n",
       "      <th>2</th>\n",
       "      <td>11:30~12:30</td>\n",
       "      <td>None</td>\n",
       "      <td>None</td>\n",
       "    </tr>\n",
       "    <tr>\n",
       "      <th>3</th>\n",
       "      <td>11:30~12:30</td>\n",
       "      <td>None</td>\n",
       "      <td>None</td>\n",
       "    </tr>\n",
       "    <tr>\n",
       "      <th>4</th>\n",
       "      <td>11:30~12:30</td>\n",
       "      <td>None</td>\n",
       "      <td>None</td>\n",
       "    </tr>\n",
       "    <tr>\n",
       "      <th>...</th>\n",
       "      <td>...</td>\n",
       "      <td>...</td>\n",
       "      <td>...</td>\n",
       "    </tr>\n",
       "    <tr>\n",
       "      <th>1405</th>\n",
       "      <td>11:00~13:00</td>\n",
       "      <td>None</td>\n",
       "      <td>None</td>\n",
       "    </tr>\n",
       "    <tr>\n",
       "      <th>1406</th>\n",
       "      <td>11:30~12:30</td>\n",
       "      <td>None</td>\n",
       "      <td>None</td>\n",
       "    </tr>\n",
       "    <tr>\n",
       "      <th>1407</th>\n",
       "      <td>12:00~13:00</td>\n",
       "      <td>None</td>\n",
       "      <td>None</td>\n",
       "    </tr>\n",
       "    <tr>\n",
       "      <th>1408</th>\n",
       "      <td>10:30~11:30</td>\n",
       "      <td>None</td>\n",
       "      <td>None</td>\n",
       "    </tr>\n",
       "    <tr>\n",
       "      <th>1409</th>\n",
       "      <td>12:00~13:00</td>\n",
       "      <td>None</td>\n",
       "      <td>None</td>\n",
       "    </tr>\n",
       "  </tbody>\n",
       "</table>\n",
       "<p>1410 rows × 3 columns</p>\n",
       "</div>"
      ],
      "text/plain": [
       "                0     1  \\\n",
       "0     11:30~12:30  None   \n",
       "1     11:00~12:00  None   \n",
       "2     11:30~12:30  None   \n",
       "3     11:30~12:30  None   \n",
       "4     11:30~12:30  None   \n",
       "...           ...   ...   \n",
       "1405  11:00~13:00  None   \n",
       "1406  11:30~12:30  None   \n",
       "1407  12:00~13:00  None   \n",
       "1408  10:30~11:30  None   \n",
       "1409  12:00~13:00  None   \n",
       "\n",
       "         2  \n",
       "0     None  \n",
       "1     None  \n",
       "2     None  \n",
       "3     None  \n",
       "4     None  \n",
       "...    ...  \n",
       "1405  None  \n",
       "1406  None  \n",
       "1407  None  \n",
       "1408  None  \n",
       "1409  None  \n",
       "\n",
       "[1410 rows x 3 columns]"
      ]
     },
     "execution_count": 337,
     "metadata": {},
     "output_type": "execute_result"
    }
   ],
   "source": [
    "good = pd.DataFrame(df['급식시간'].str.findall('(\\d{2}:\\d{2}~\\d{2}:\\d{2})').tolist())\n",
    "good"
   ]
  },
  {
   "cell_type": "markdown",
   "metadata": {},
   "source": [
    "- 위처럼 ~ 형식에 대해서 dataframe 을 만든다.\n",
    "- 그 이후에 각 시간에 대해서 아침/점심/저녁에 해당하는 시간대를 추려서, 아침/점심/저녁으로 범주화해서 붙인다."
   ]
  },
  {
   "cell_type": "code",
   "execution_count": 338,
   "metadata": {
    "scrolled": false
   },
   "outputs": [],
   "source": [
    "# 1이 나온 값은 바로 밑반찬 배달이다. \n",
    "mean_1 = (good[0].str[0:2].astype(float) + good[0].str[6:8].astype(float))/2 \n",
    "mean_2 = (good[1].str[0:2].astype(float) + good[1].str[6:8].astype(float))/2 \n",
    "mean_3 = (good[2].str[0:2].astype(float) + good[2].str[6:8].astype(float))/2 "
   ]
  },
  {
   "cell_type": "markdown",
   "metadata": {},
   "source": [
    "- 이때에 시간대가 1 인경우가 있다. 이는 새벽 1시라는 이야기인데 말이 안되는 것이다.\n",
    "- 조사해본 결과 이는 반찬배달의 경우였다. 그러므로 이는 배달로 구분하도록록 하겠다.\n",
    "- 즉 pd.cut 에서 1의 범위에 해당하는 값은 배달로 처리"
   ]
  },
  {
   "cell_type": "code",
   "execution_count": 339,
   "metadata": {},
   "outputs": [],
   "source": [
    "new_mean_1 = pd.cut(mean_1,[0,2,10,15,np.inf],labels = ['배달','아침','점심','저녁'])\n",
    "new_mean_2 = pd.cut(mean_2,[0,2,10,15,np.inf],labels = ['배달','아침','점심','저녁'])\n",
    "new_mean_3 = pd.cut(mean_3,[0,2,10,15,np.inf],labels = ['배달','아침','점심','저녁'])"
   ]
  },
  {
   "cell_type": "markdown",
   "metadata": {},
   "source": [
    "- 이제, NAN 을 모두 공백으로 바꾼다.\n",
    "- 그 이후 세 값들을 더해준다.(str)"
   ]
  },
  {
   "cell_type": "code",
   "execution_count": 340,
   "metadata": {},
   "outputs": [],
   "source": [
    "new_mean_1 = new_mean_1.astype(str).fillna(\"\")\n",
    "new_mean_2 = new_mean_2.astype(str).fillna(\"\")\n",
    "new_mean_3 = new_mean_3.astype(str).fillna(\"\")\n",
    "cate_meal = new_mean_1 + new_mean_2 + new_mean_3"
   ]
  },
  {
   "cell_type": "markdown",
   "metadata": {},
   "source": [
    "- 아래와 같이 Nan 이 나온 값 말고는 제공하는 시간이 모두 올바르게 나온것을 볼 수 있다."
   ]
  },
  {
   "cell_type": "code",
   "execution_count": 341,
   "metadata": {
    "scrolled": false
   },
   "outputs": [
    {
     "data": {
      "text/plain": [
       "점심        1120\n",
       "           191\n",
       "점심저녁        68\n",
       "저녁          17\n",
       "아침           4\n",
       "배달           3\n",
       "점심점심         3\n",
       "저녁점심         2\n",
       "아침점심저녁       1\n",
       "점심저녁저녁       1\n",
       "dtype: int64"
      ]
     },
     "execution_count": 341,
     "metadata": {},
     "output_type": "execute_result"
    }
   ],
   "source": [
    "cate_meal.value_counts()"
   ]
  },
  {
   "cell_type": "code",
   "execution_count": 342,
   "metadata": {},
   "outputs": [],
   "source": [
    "df['급식'] = cate_meal"
   ]
  },
  {
   "cell_type": "markdown",
   "metadata": {},
   "source": [
    "## 예외형식 처리"
   ]
  },
  {
   "cell_type": "markdown",
   "metadata": {},
   "source": [
    "- 이제 위 경우에 대해 해당하지 않는 많은 경우들을 알아보자.\n",
    "- 아래처럼 많은 경우가 있음을 알 수 있다."
   ]
  },
  {
   "cell_type": "code",
   "execution_count": 343,
   "metadata": {
    "scrolled": true
   },
   "outputs": [
    {
     "name": "stderr",
     "output_type": "stream",
     "text": [
      "C:\\Users\\goran\\Anaconda3\\envs\\tensor\\lib\\site-packages\\pandas\\core\\strings\\accessor.py:101: UserWarning: This pattern has match groups. To actually get the groups, use str.extract.\n",
      "  return func(self, *args, **kwargs)\n"
     ]
    },
    {
     "data": {
      "text/html": [
       "<div>\n",
       "<style scoped>\n",
       "    .dataframe tbody tr th:only-of-type {\n",
       "        vertical-align: middle;\n",
       "    }\n",
       "\n",
       "    .dataframe tbody tr th {\n",
       "        vertical-align: top;\n",
       "    }\n",
       "\n",
       "    .dataframe thead th {\n",
       "        text-align: right;\n",
       "    }\n",
       "</style>\n",
       "<table border=\"1\" class=\"dataframe\">\n",
       "  <thead>\n",
       "    <tr style=\"text-align: right;\">\n",
       "      <th></th>\n",
       "      <th>old</th>\n",
       "      <th>new</th>\n",
       "    </tr>\n",
       "  </thead>\n",
       "  <tbody>\n",
       "    <tr>\n",
       "      <th>0</th>\n",
       "      <td>12:00</td>\n",
       "      <td>점심</td>\n",
       "    </tr>\n",
       "    <tr>\n",
       "      <th>1</th>\n",
       "      <td>12시</td>\n",
       "      <td>점심</td>\n",
       "    </tr>\n",
       "    <tr>\n",
       "      <th>2</th>\n",
       "      <td>점심</td>\n",
       "      <td>점심</td>\n",
       "    </tr>\n",
       "    <tr>\n",
       "      <th>3</th>\n",
       "      <td>주2회</td>\n",
       "      <td>기타</td>\n",
       "    </tr>\n",
       "    <tr>\n",
       "      <th>4</th>\n",
       "      <td>중식</td>\n",
       "      <td>점심</td>\n",
       "    </tr>\n",
       "    <tr>\n",
       "      <th>5</th>\n",
       "      <td>주1회(6일분)반찬배달</td>\n",
       "      <td>배달</td>\n",
       "    </tr>\n",
       "    <tr>\n",
       "      <th>6</th>\n",
       "      <td>오전(06:00)+오후(19:00)</td>\n",
       "      <td>아침저녁</td>\n",
       "    </tr>\n",
       "    <tr>\n",
       "      <th>7</th>\n",
       "      <td>주4회,15:00/토,12:00</td>\n",
       "      <td>점심</td>\n",
       "    </tr>\n",
       "    <tr>\n",
       "      <th>8</th>\n",
       "      <td>12시~13시</td>\n",
       "      <td>점심</td>\n",
       "    </tr>\n",
       "    <tr>\n",
       "      <th>9</th>\n",
       "      <td>중식(12:00)</td>\n",
       "      <td>점심</td>\n",
       "    </tr>\n",
       "    <tr>\n",
       "      <th>10</th>\n",
       "      <td>중식(11:30~12.30)</td>\n",
       "      <td>점심</td>\n",
       "    </tr>\n",
       "    <tr>\n",
       "      <th>11</th>\n",
       "      <td>오전11시30분</td>\n",
       "      <td>점심</td>\n",
       "    </tr>\n",
       "    <tr>\n",
       "      <th>12</th>\n",
       "      <td>오전11시40분</td>\n",
       "      <td>점심</td>\n",
       "    </tr>\n",
       "    <tr>\n",
       "      <th>13</th>\n",
       "      <td>오전11시</td>\n",
       "      <td>점심</td>\n",
       "    </tr>\n",
       "    <tr>\n",
       "      <th>14</th>\n",
       "      <td>11:40</td>\n",
       "      <td>점심</td>\n",
       "    </tr>\n",
       "    <tr>\n",
       "      <th>15</th>\n",
       "      <td>잠정중단</td>\n",
       "      <td>중단</td>\n",
       "    </tr>\n",
       "    <tr>\n",
       "      <th>16</th>\n",
       "      <td>중식(11:00)</td>\n",
       "      <td>점심</td>\n",
       "    </tr>\n",
       "    <tr>\n",
       "      <th>17</th>\n",
       "      <td>중식(11:30)</td>\n",
       "      <td>점심</td>\n",
       "    </tr>\n",
       "    <tr>\n",
       "      <th>18</th>\n",
       "      <td>11:00</td>\n",
       "      <td>점심</td>\n",
       "    </tr>\n",
       "    <tr>\n",
       "      <th>19</th>\n",
       "      <td>11:30</td>\n",
       "      <td>점심</td>\n",
       "    </tr>\n",
       "    <tr>\n",
       "      <th>20</th>\n",
       "      <td>11시30분~12시30분</td>\n",
       "      <td>점심</td>\n",
       "    </tr>\n",
       "    <tr>\n",
       "      <th>21</th>\n",
       "      <td>11:30~</td>\n",
       "      <td>점심</td>\n",
       "    </tr>\n",
       "    <tr>\n",
       "      <th>22</th>\n",
       "      <td>조식(토)</td>\n",
       "      <td>아침</td>\n",
       "    </tr>\n",
       "    <tr>\n",
       "      <th>23</th>\n",
       "      <td>점심시간</td>\n",
       "      <td>점심</td>\n",
       "    </tr>\n",
       "    <tr>\n",
       "      <th>24</th>\n",
       "      <td>12:00~+코로나19관련현재미운영</td>\n",
       "      <td>점심</td>\n",
       "    </tr>\n",
       "    <tr>\n",
       "      <th>25</th>\n",
       "      <td>12:00~</td>\n",
       "      <td>점심</td>\n",
       "    </tr>\n",
       "    <tr>\n",
       "      <th>26</th>\n",
       "      <td>화목(17:30~)+토(12:00~)</td>\n",
       "      <td>점심저녁</td>\n",
       "    </tr>\n",
       "    <tr>\n",
       "      <th>27</th>\n",
       "      <td>중식(금),조식(토)</td>\n",
       "      <td>아침점심</td>\n",
       "    </tr>\n",
       "  </tbody>\n",
       "</table>\n",
       "</div>"
      ],
      "text/plain": [
       "                     old  \\\n",
       "0                  12:00   \n",
       "1                    12시   \n",
       "2                     점심   \n",
       "3                    주2회   \n",
       "4                     중식   \n",
       "5           주1회(6일분)반찬배달   \n",
       "6    오전(06:00)+오후(19:00)   \n",
       "7      주4회,15:00/토,12:00   \n",
       "8                12시~13시   \n",
       "9              중식(12:00)   \n",
       "10       중식(11:30~12.30)   \n",
       "11              오전11시30분   \n",
       "12              오전11시40분   \n",
       "13                 오전11시   \n",
       "14                 11:40   \n",
       "15                  잠정중단   \n",
       "16             중식(11:00)   \n",
       "17             중식(11:30)   \n",
       "18                 11:00   \n",
       "19                 11:30   \n",
       "20         11시30분~12시30분   \n",
       "21                11:30~   \n",
       "22                 조식(토)   \n",
       "23                  점심시간   \n",
       "24   12:00~+코로나19관련현재미운영   \n",
       "25                12:00~   \n",
       "26  화목(17:30~)+토(12:00~)   \n",
       "27           중식(금),조식(토)   \n",
       "\n",
       "     new  \n",
       "0     점심  \n",
       "1     점심  \n",
       "2     점심  \n",
       "3     기타  \n",
       "4     점심  \n",
       "5     배달  \n",
       "6   아침저녁  \n",
       "7     점심  \n",
       "8     점심  \n",
       "9     점심  \n",
       "10    점심  \n",
       "11    점심  \n",
       "12    점심  \n",
       "13    점심  \n",
       "14    점심  \n",
       "15    중단  \n",
       "16    점심  \n",
       "17    점심  \n",
       "18    점심  \n",
       "19    점심  \n",
       "20    점심  \n",
       "21    점심  \n",
       "22    아침  \n",
       "23    점심  \n",
       "24    점심  \n",
       "25    점심  \n",
       "26  점심저녁  \n",
       "27  아침점심  "
      ]
     },
     "execution_count": 343,
     "metadata": {},
     "output_type": "execute_result"
    }
   ],
   "source": [
    "exception = df[~df['급식시간'].str.contains(r'(\\d{2}:\\d{2}~\\d{2}:\\d{2})',regex=True)]\n",
    "change = pd.DataFrame()\n",
    "change['old'] = exception['급식시간'].unique()\n",
    "change['new'] = ['점심','점심','점심','기타','점심','배달',\n",
    "                 '아침저녁','점심','점심','점심',\n",
    "                 '점심','점심','점심','점심','점심',\n",
    "                 '중단','점심','점심','점심','점심',\n",
    "                 '점심','점심','아침','점심','점심','점심','점심저녁','아침점심']\n",
    "change"
   ]
  },
  {
   "cell_type": "markdown",
   "metadata": {},
   "source": [
    "- 위와 같이 old 에 해당하는 범주들을, 최대한 맞게 바꾸어 주었다.\n",
    "- 그 이후 아래와 같이 df 의 급식 columns 에 위 처리 내용을 붙여넣었다."
   ]
  },
  {
   "cell_type": "code",
   "execution_count": 344,
   "metadata": {},
   "outputs": [
    {
     "data": {
      "text/plain": [
       "점심        1292\n",
       "점심저녁        69\n",
       "저녁          17\n",
       "배달          15\n",
       "아침           5\n",
       "점심점심         3\n",
       "저녁점심         2\n",
       "기타           2\n",
       "아침점심저녁       1\n",
       "점심저녁저녁       1\n",
       "아침저녁         1\n",
       "중단           1\n",
       "아침점심         1\n",
       "Name: 급식, dtype: int64"
      ]
     },
     "execution_count": 344,
     "metadata": {},
     "output_type": "execute_result"
    }
   ],
   "source": [
    "ext = exception['급식시간'].replace(list(change['old']),list(change['new']))\n",
    "df.loc[ext.index,'급식'] = ext\n",
    "df['급식'].value_counts()"
   ]
  },
  {
   "cell_type": "markdown",
   "metadata": {},
   "source": [
    "## 마지막 처리"
   ]
  },
  {
   "cell_type": "markdown",
   "metadata": {},
   "source": [
    "- 점심점심 -> 점심\n",
    "- 점심저녁저녁 -> 점심저녁"
   ]
  },
  {
   "cell_type": "code",
   "execution_count": 345,
   "metadata": {
    "scrolled": true
   },
   "outputs": [
    {
     "data": {
      "text/plain": [
       "점심        1295\n",
       "점심저녁        70\n",
       "저녁          17\n",
       "배달          15\n",
       "아침           5\n",
       "저녁점심         2\n",
       "기타           2\n",
       "아침점심저녁       1\n",
       "아침저녁         1\n",
       "중단           1\n",
       "아침점심         1\n",
       "Name: 급식, dtype: int64"
      ]
     },
     "execution_count": 345,
     "metadata": {},
     "output_type": "execute_result"
    }
   ],
   "source": [
    "df['급식'] = df['급식'].replace(['점심점심','점심저녁저녁'],['점심','점심저녁'])\n",
    "df['급식'].value_counts()"
   ]
  },
  {
   "cell_type": "markdown",
   "metadata": {},
   "source": [
    "- 대부분 점심이 제일 많고, 아침과 저녁의 경우는 현저하게 적다."
   ]
  },
  {
   "cell_type": "code",
   "execution_count": 346,
   "metadata": {},
   "outputs": [],
   "source": [
    "df = pd.concat([df,pd.DataFrame({'아침': df['급식'].str.contains('아침')*1,\n",
    "                                 '점심': df['급식'].str.contains('점심')*1,\n",
    "                                 '저녁': df['급식'].str.contains('저녁')*1})],axis=1)"
   ]
  },
  {
   "cell_type": "markdown",
   "metadata": {},
   "source": [
    "# 급식 요일 처리"
   ]
  },
  {
   "cell_type": "markdown",
   "metadata": {},
   "source": [
    "- 급식 요일을 보았을때, 키워드는 월/화/수/목/금/토/일/매일/월~토 등으로 처리가 되어있음을 알 수 있다.\n",
    "- 매우 형식이 제각각이라 하나하나 처리할수는 없었고, 대표적인 경우로 나누어서 최대한 정확하게 많은 가짓수를 포함하려 하였다."
   ]
  },
  {
   "cell_type": "code",
   "execution_count": 347,
   "metadata": {},
   "outputs": [],
   "source": [
    "df[['월','화','수','목','금','토','일']] = 0"
   ]
  },
  {
   "cell_type": "markdown",
   "metadata": {},
   "source": [
    "- 우선 위와 같이 월,화,수,목,금,토,일 의 col 을 만들어서, 그 날에 급식을 하는날 이라고 표시하려 하였다."
   ]
  },
  {
   "cell_type": "code",
   "execution_count": 348,
   "metadata": {},
   "outputs": [
    {
     "data": {
      "text/plain": [
       "월+화+수+목+금                                             395\n",
       "월+화+수+목+금+토                                           145\n",
       "월~금                                                    98\n",
       "월,화,수,목,금                                              67\n",
       "월~토                                                    62\n",
       "매일                                                     28\n",
       "목                                                      17\n",
       "화                                                      17\n",
       "토                                                      17\n",
       "월, 화, 수, 목, 금                                          16\n",
       "월~금(5일)                                                14\n",
       "수                                                      12\n",
       "주1회(6일분) 반찬배달                                          12\n",
       "월+수+금                                                  11\n",
       "월~금(토요일 대체식 지급)                                        11\n",
       "월수금                                                    11\n",
       "월+화+수+목+금(주중)                                          10\n",
       "주3회                                                    10\n",
       "월～토                                                     9\n",
       "월,화,수,목,금,토                                             9\n",
       "매주 수요일                                                  8\n",
       "주중                                                      8\n",
       "금                                                       8\n",
       "주 5회(월~금)                                               7\n",
       "화+목                                                     7\n",
       "주5회(월~금)                                                7\n",
       "주6회                                                     7\n",
       "화+수+목                                                   7\n",
       "화목                                                      6\n",
       "월～금                                                     6\n",
       "월 ~ 금                                                   5\n",
       "매주 화요일                                                  5\n",
       "월+화+수+목                                                 5\n",
       "월                                                       5\n",
       "화+목+토                                                   5\n",
       "목+금+토                                                   4\n",
       "화+수+목+금                                                 4\n",
       "월~토(법정 공휴일제외)                                           4\n",
       "월,수,금                                                   4\n",
       "평일                                                      4\n",
       "수,금                                                     4\n",
       "월+화+수+목+금+토+일                                           4\n",
       "수+금                                                     4\n",
       "주 6회(월~토)                                               4\n",
       "매주 금요일                                                  4\n",
       "화+금                                                     3\n",
       "일                                                       3\n",
       "수, 토                                                    3\n",
       "수요일(주1회)                                                3\n",
       "월,금                                                     3\n",
       "토+일                                                     3\n",
       "월화수목금                                                   3\n",
       "매주 토요일                                                  3\n",
       "월, 화, 수, 목, 금, 토                                        3\n",
       "월.화.수.목.금                                               3\n",
       "목,금                                                     3\n",
       "매주 목요일                                                  3\n",
       "수+목                                                     3\n",
       "주말, 공휴일                                                 3\n",
       "월+목                                                     3\n",
       "홀수일                                                     3\n",
       "월 ~ 토                                                   3\n",
       "매주 월~토                                                  2\n",
       "월-금                                                     2\n",
       "주1일(월)                                                  2\n",
       "목요일(주1회)                                                2\n",
       "화+수                                                     2\n",
       "목+일                                                     2\n",
       "화+목+금                                                   2\n",
       "월~일                                                     2\n",
       "월+화+수 +목+금                                              2\n",
       "월.화.수.목.금.토                                             2\n",
       "연중(토,일. 공휴일 제외, 8월 혹서기 4주제외)                            2\n",
       "수+토                                                     2\n",
       "화,수,목(3일)                                               2\n",
       "월-토요일                                                   2\n",
       "월,수,금,일                                                 2\n",
       "쌍치장날(4,9일)                                              2\n",
       "화요일(주1회)                                                2\n",
       "주5일(평일)                                                 2\n",
       "순창장날(1,6일)                                              2\n",
       "월, 화, 수, 목, 금,(토-금요일 지원)                                2\n",
       "주중+토                                                    2\n",
       "월+화+수+금+토+일                                             2\n",
       "매주 월~금                                                  2\n",
       "수(주 1회)                                                 2\n",
       "경로식당(월,화,수,목,금,토), 식사배달(월,화,수,목,금,토,일), 밑반찬배달(월,목)      2\n",
       "장날전후                                                    2\n",
       "화, 수                                                    2\n",
       "주1회(금)                                                  2\n",
       "매월 3,13,23일                                             2\n",
       "화~토                                                     2\n",
       "300                                                     2\n",
       "월,화,수,금                                                 2\n",
       "화,목,금,토                                                 2\n",
       "수+일                                                     2\n",
       "화+목+일                                                   2\n",
       "월, 수, 금                                                 2\n",
       "금,토                                                     1\n",
       "월,화,목,금,토,일                                             1\n",
       "주1회(화)                                                  1\n",
       "중식(월~금)+석식(매일)                                          1\n",
       "금요일(주1회)                                                1\n",
       "화+금+매월 마지막 주 토요일                                        1\n",
       "월+화+목+금+토+일                                             1\n",
       "매월 3, 8, 13일                                            1\n",
       "매 2, 7일                                                 1\n",
       "월+목+금                                                   1\n",
       "토요일                                                     1\n",
       "화,목,토                                                   1\n",
       "매월 마지막주 수요일                                             1\n",
       "장날(3.8)+월 4회                                            1\n",
       "매월 4,14,24일                                             1\n",
       "경로식당(월,화,수,목,금,토), 식사배달(월,화,수,목,금,토,일), 밑반찬배달(화,목)      1\n",
       "2,3,4주 월                                                1\n",
       "화(주 1회)                                                 1\n",
       "월+화+수                                                   1\n",
       "월+화+수+목+금+토 (토요일 자체운영)                                  1\n",
       "화+수+금+토+일+코로나19관련 현재 미운영                                1\n",
       "매주 월요일                                                  1\n",
       "주4회(월, 화, 수, 목)                                         1\n",
       "금+토                                                     1\n",
       "주3회(월, 수, 금)                                            1\n",
       "매월 둘째 넷째 목요일                                            1\n",
       "화요일~금요일                                                 1\n",
       "월,화,목,금.토                                               1\n",
       "화수목금(조식,석식). 일(중식,석식)                                   1\n",
       "화+목(2째주 월+화+수+목+금)                                      1\n",
       "주6일(월~토)                                                1\n",
       "둘째 목(월 1회)                                              1\n",
       "중식(매주 수요일)+석식(월~금)                                      1\n",
       "3일+5일+9일+13일+15일+19일+23일+25일+29일                        1\n",
       "화, 수, 목, 금                                              1\n",
       "화목토                                                     1\n",
       "밑반찬배달(화,금)                                              1\n",
       "매주목요일                                                   1\n",
       "26일(월 1회)                                               1\n",
       "1일                                                      1\n",
       "주5회(월, 화, 수, 목, 금)                                      1\n",
       "월/목                                                     1\n",
       "중식(주7회)+석식(월,화,목,토)+석식(수,금,일)                           1\n",
       "매월 마지막주 월요일                                             1\n",
       "매주 목                                                    1\n",
       "식사배달(월,화,수,목,금,토,일), 밑반찬배달(월,목)                         1\n",
       "매주 화,목요일                                                1\n",
       "월, 수, 목                                                 1\n",
       "경로식당(월,화,수,목,금,토), 식사배달(월,화,수,목,금,토,일)                  1\n",
       "2째, 4째주 목요일                                             1\n",
       "수,목                                                     1\n",
       "화+금+일(1+2+7+8월제외)                                       1\n",
       "주 5회(월~토 중  수요일 제외)                                     1\n",
       "월~금(주5회)                                                1\n",
       "월+화+목+금                                                 1\n",
       "월+화+목+금+토                                               1\n",
       "주5일                                                     1\n",
       "2일+7일+12일+17일+22일+27일                                   1\n",
       "매월 7,17,27일                                             1\n",
       "월~일(주7회)                                                1\n",
       "중식: 1~4째주 수요일 석식:토요일제외 매일                               1\n",
       "매월 2,7일 포함일                                             1\n",
       "월,수,목,금                                                 1\n",
       "수, 목, 토                                                 1\n",
       "평일 장날                                                   1\n",
       "화+수+목+금+토                                               1\n",
       "매일 중식                                                   1\n",
       "중식(주6회,목요일휴무)                                           1\n",
       "1일+6일+11일+16일+21일+26일+31일                               1\n",
       "월+수+토                                                   1\n",
       "매주 화. 금                                                 1\n",
       "중식(목요일)                                                 1\n",
       "화, 목, 토                                                 1\n",
       "월+화+수+토                                                 1\n",
       "월,목 : 횡성읍 /화,금 : 갑천,공근 서원                               1\n",
       "화.수                                                     1\n",
       "수, 목, 금, 토                                              1\n",
       "목+토                                                     1\n",
       "화, 금                                                    1\n",
       "경로식당(월,화,수,목,금,토),밑반찬배달(화,목)                            1\n",
       "주3일(월,수,금)                                              1\n",
       "월+금                                                     1\n",
       "식사배달(월,화,수,목,금,토,일)                                     1\n",
       "매월 10,20,30일                                            1\n",
       "매주금요일                                                   1\n",
       "월+금+토                                                   1\n",
       "월~화                                                     1\n",
       "넷째 일(월 1회)                                              1\n",
       "주5일(공휴일제외)                                              1\n",
       "첫째주 일+셋째주 일                                             1\n",
       "주 5일(월~금요일)                                             1\n",
       "월+화+목                                                   1\n",
       "매월 5,15,25일                                             1\n",
       "일요일                                                     1\n",
       "주1일(수)                                                  1\n",
       "매달 첫째,셋째 월                                              1\n",
       "화,수,토요일                                                 1\n",
       "경로식당(월,화,수,목,금,토)                                       1\n",
       "월,수                                                     1\n",
       "매일 배달                                                   1\n",
       "월 3회 월요일                                                1\n",
       "월, 금                                                    1\n",
       "매수 수요일                                                  1\n",
       "주2회(월, 수)                                               1\n",
       "월+화+수+목+금+일                                             1\n",
       "10월~11월(주1회)                                            1\n",
       "1째, 3째주 목요일                                             1\n",
       "월+화+수 +목+금+토+일                                          1\n",
       "화,수                                                     1\n",
       "석식(주6회,토요일휴무)                                           1\n",
       "화+ 금                                                    1\n",
       "조식(수+목+금+일)                                             1\n",
       "월화금토                                                    1\n",
       "수, 목                                                    1\n",
       "월∼토                                                     1\n",
       "수, 금                                                    1\n",
       "매주 월. 수. 금                                              1\n",
       "첫째 금(월 1회)                                              1\n",
       "월-금요일                                                   1\n",
       "주1일(금)                                                  1\n",
       "수+목(7+8월 제외)                                            1\n",
       "매달 둘째,넷째 월                                              1\n",
       "화+일                                                     1\n",
       "목+금+일                                                   1\n",
       "주5일(월~금)                                                1\n",
       "잠정 중단                                                   1\n",
       "월+화+수+목+토                                               1\n",
       "수+목+금+토                                                 1\n",
       "Name: 급식요일, dtype: int64"
      ]
     },
     "execution_count": 348,
     "metadata": {},
     "output_type": "execute_result"
    }
   ],
   "source": [
    "df['급식요일'].value_counts()"
   ]
  },
  {
   "cell_type": "markdown",
   "metadata": {},
   "source": [
    "- 월-금 과 월~금 은 같은 의미이다.\n",
    "- 즉 월-금 형식을 월~금 형식으로 ~를 넣어서 통합시키자.\n",
    "- 그리고 띄어쓰기를 공백이 없게 처리하자."
   ]
  },
  {
   "cell_type": "code",
   "execution_count": 349,
   "metadata": {
    "scrolled": true
   },
   "outputs": [],
   "source": [
    "df['급식요일'] = df['급식요일'].str.replace(' ','')\n",
    "df['급식요일'] = df['급식요일'].str.replace('-','~')"
   ]
  },
  {
   "cell_type": "markdown",
   "metadata": {},
   "source": [
    "## ~ 처리 (from - to)"
   ]
  },
  {
   "cell_type": "markdown",
   "metadata": {},
   "source": [
    "- ~ 를 포함하는 경우는 아래와 같았다."
   ]
  },
  {
   "cell_type": "code",
   "execution_count": 350,
   "metadata": {
    "scrolled": true
   },
   "outputs": [
    {
     "data": {
      "text/plain": [
       "array(['월~토', '월~금', '주5회(월~금)', '주6회(월~토)', '월~금(5일)', '주5회(월~토중수요일제외)',\n",
       "       '화~토', '매주월~금', '월~금(주5회)', '매주월~토', '중식(매주수요일)+석식(월~금)',\n",
       "       '월~금(토요일대체식지급)', '월~일(주7회)', '월,화,수,목,금,(토~금요일지원)', '주5일(월~금요일)',\n",
       "       '월~일', '월~화', '주6일(월~토)', '주5일(월~금)', '중식(월~금)+석식(매일)',\n",
       "       '월~토(법정공휴일제외)', '10월~11월(주1회)', '월~토요일', '월~금요일', '화요일~금요일',\n",
       "       '중식:1~4째주수요일석식:토요일제외매일'], dtype=object)"
      ]
     },
     "execution_count": 350,
     "metadata": {},
     "output_type": "execute_result"
    }
   ],
   "source": [
    "from_to = df[df['급식요일'].str.contains('~',na=False)]['급식요일'].unique()\n",
    "from_to # ~를 포함하는 경우는 아래와 같다."
   ]
  },
  {
   "cell_type": "code",
   "execution_count": 351,
   "metadata": {
    "scrolled": true
   },
   "outputs": [
    {
     "data": {
      "text/html": [
       "<div>\n",
       "<style scoped>\n",
       "    .dataframe tbody tr th:only-of-type {\n",
       "        vertical-align: middle;\n",
       "    }\n",
       "\n",
       "    .dataframe tbody tr th {\n",
       "        vertical-align: top;\n",
       "    }\n",
       "\n",
       "    .dataframe thead th {\n",
       "        text-align: right;\n",
       "    }\n",
       "</style>\n",
       "<table border=\"1\" class=\"dataframe\">\n",
       "  <thead>\n",
       "    <tr style=\"text-align: right;\">\n",
       "      <th></th>\n",
       "      <th>old</th>\n",
       "      <th>new</th>\n",
       "    </tr>\n",
       "  </thead>\n",
       "  <tbody>\n",
       "    <tr>\n",
       "      <th>0</th>\n",
       "      <td>월~토</td>\n",
       "      <td>월화수목금토</td>\n",
       "    </tr>\n",
       "    <tr>\n",
       "      <th>1</th>\n",
       "      <td>월~금</td>\n",
       "      <td>월화수목금</td>\n",
       "    </tr>\n",
       "    <tr>\n",
       "      <th>2</th>\n",
       "      <td>주5회(월~금)</td>\n",
       "      <td>월화수목금</td>\n",
       "    </tr>\n",
       "    <tr>\n",
       "      <th>3</th>\n",
       "      <td>주6회(월~토)</td>\n",
       "      <td>월화수목금토</td>\n",
       "    </tr>\n",
       "    <tr>\n",
       "      <th>4</th>\n",
       "      <td>월~금(5일)</td>\n",
       "      <td>월화수목금</td>\n",
       "    </tr>\n",
       "    <tr>\n",
       "      <th>5</th>\n",
       "      <td>주5회(월~토중수요일제외)</td>\n",
       "      <td>월화목금토</td>\n",
       "    </tr>\n",
       "    <tr>\n",
       "      <th>6</th>\n",
       "      <td>화~토</td>\n",
       "      <td>화수목금토</td>\n",
       "    </tr>\n",
       "    <tr>\n",
       "      <th>7</th>\n",
       "      <td>매주월~금</td>\n",
       "      <td>월화수목금</td>\n",
       "    </tr>\n",
       "    <tr>\n",
       "      <th>8</th>\n",
       "      <td>월~금(주5회)</td>\n",
       "      <td>월화수목금</td>\n",
       "    </tr>\n",
       "    <tr>\n",
       "      <th>9</th>\n",
       "      <td>매주월~토</td>\n",
       "      <td>월화수목금토</td>\n",
       "    </tr>\n",
       "    <tr>\n",
       "      <th>10</th>\n",
       "      <td>중식(매주수요일)+석식(월~금)</td>\n",
       "      <td>월화수목금</td>\n",
       "    </tr>\n",
       "    <tr>\n",
       "      <th>11</th>\n",
       "      <td>월~금(토요일대체식지급)</td>\n",
       "      <td>월화수목금토</td>\n",
       "    </tr>\n",
       "    <tr>\n",
       "      <th>12</th>\n",
       "      <td>월~일(주7회)</td>\n",
       "      <td>월화수목금토일</td>\n",
       "    </tr>\n",
       "    <tr>\n",
       "      <th>13</th>\n",
       "      <td>월,화,수,목,금,(토~금요일지원)</td>\n",
       "      <td>월화수목금토</td>\n",
       "    </tr>\n",
       "    <tr>\n",
       "      <th>14</th>\n",
       "      <td>주5일(월~금요일)</td>\n",
       "      <td>월화수목금</td>\n",
       "    </tr>\n",
       "    <tr>\n",
       "      <th>15</th>\n",
       "      <td>월~일</td>\n",
       "      <td>월화수목금토일</td>\n",
       "    </tr>\n",
       "    <tr>\n",
       "      <th>16</th>\n",
       "      <td>월~화</td>\n",
       "      <td>월화</td>\n",
       "    </tr>\n",
       "    <tr>\n",
       "      <th>17</th>\n",
       "      <td>주6일(월~토)</td>\n",
       "      <td>월화수목금토</td>\n",
       "    </tr>\n",
       "    <tr>\n",
       "      <th>18</th>\n",
       "      <td>주5일(월~금)</td>\n",
       "      <td>월화수목금</td>\n",
       "    </tr>\n",
       "    <tr>\n",
       "      <th>19</th>\n",
       "      <td>중식(월~금)+석식(매일)</td>\n",
       "      <td>월화수목금토일</td>\n",
       "    </tr>\n",
       "    <tr>\n",
       "      <th>20</th>\n",
       "      <td>월~토(법정공휴일제외)</td>\n",
       "      <td>월화수목금토</td>\n",
       "    </tr>\n",
       "    <tr>\n",
       "      <th>21</th>\n",
       "      <td>10월~11월(주1회)</td>\n",
       "      <td>기타</td>\n",
       "    </tr>\n",
       "    <tr>\n",
       "      <th>22</th>\n",
       "      <td>월~토요일</td>\n",
       "      <td>월화수목금토</td>\n",
       "    </tr>\n",
       "    <tr>\n",
       "      <th>23</th>\n",
       "      <td>월~금요일</td>\n",
       "      <td>월화수목금</td>\n",
       "    </tr>\n",
       "    <tr>\n",
       "      <th>24</th>\n",
       "      <td>화요일~금요일</td>\n",
       "      <td>화수목금토</td>\n",
       "    </tr>\n",
       "    <tr>\n",
       "      <th>25</th>\n",
       "      <td>중식:1~4째주수요일석식:토요일제외매일</td>\n",
       "      <td>월화수목금일</td>\n",
       "    </tr>\n",
       "  </tbody>\n",
       "</table>\n",
       "</div>"
      ],
      "text/plain": [
       "                      old  \\\n",
       "0                     월~토   \n",
       "1                     월~금   \n",
       "2                주5회(월~금)   \n",
       "3                주6회(월~토)   \n",
       "4                 월~금(5일)   \n",
       "5          주5회(월~토중수요일제외)   \n",
       "6                     화~토   \n",
       "7                   매주월~금   \n",
       "8                월~금(주5회)   \n",
       "9                   매주월~토   \n",
       "10      중식(매주수요일)+석식(월~금)   \n",
       "11          월~금(토요일대체식지급)   \n",
       "12               월~일(주7회)   \n",
       "13    월,화,수,목,금,(토~금요일지원)   \n",
       "14             주5일(월~금요일)   \n",
       "15                    월~일   \n",
       "16                    월~화   \n",
       "17               주6일(월~토)   \n",
       "18               주5일(월~금)   \n",
       "19         중식(월~금)+석식(매일)   \n",
       "20           월~토(법정공휴일제외)   \n",
       "21           10월~11월(주1회)   \n",
       "22                  월~토요일   \n",
       "23                  월~금요일   \n",
       "24                화요일~금요일   \n",
       "25  중식:1~4째주수요일석식:토요일제외매일   \n",
       "\n",
       "        new  \n",
       "0    월화수목금토  \n",
       "1     월화수목금  \n",
       "2     월화수목금  \n",
       "3    월화수목금토  \n",
       "4     월화수목금  \n",
       "5     월화목금토  \n",
       "6     화수목금토  \n",
       "7     월화수목금  \n",
       "8     월화수목금  \n",
       "9    월화수목금토  \n",
       "10    월화수목금  \n",
       "11   월화수목금토  \n",
       "12  월화수목금토일  \n",
       "13   월화수목금토  \n",
       "14    월화수목금  \n",
       "15  월화수목금토일  \n",
       "16       월화  \n",
       "17   월화수목금토  \n",
       "18    월화수목금  \n",
       "19  월화수목금토일  \n",
       "20   월화수목금토  \n",
       "21       기타  \n",
       "22   월화수목금토  \n",
       "23    월화수목금  \n",
       "24    화수목금토  \n",
       "25   월화수목금일  "
      ]
     },
     "execution_count": 351,
     "metadata": {},
     "output_type": "execute_result"
    }
   ],
   "source": [
    "change = pd.DataFrame()\n",
    "change['old'] = from_to\n",
    "change['new'] = ['월화수목금토','월화수목금','월화수목금','월화수목금토','월화수목금','월화목금토',\n",
    "                '화수목금토','월화수목금','월화수목금','월화수목금토','월화수목금',\n",
    "                '월화수목금토','월화수목금토일','월화수목금토','월화수목금',\n",
    "                '월화수목금토일','월화','월화수목금토','월화수목금','월화수목금토일',\n",
    "                '월화수목금토','기타','월화수목금토','월화수목금','화수목금토',\n",
    "                '월화수목금일']\n",
    "change"
   ]
  },
  {
   "cell_type": "markdown",
   "metadata": {},
   "source": [
    "- 위 표와 같이 원래 old열의 값들(원래 dataframe)을 new 열의 값으로 대체하겠다."
   ]
  },
  {
   "cell_type": "code",
   "execution_count": 352,
   "metadata": {},
   "outputs": [],
   "source": [
    "ext = exception['급식요일'].replace(list(change['old']),list(change['new']))\n",
    "df.loc[ext.index,'급식요일'] = ext"
   ]
  },
  {
   "cell_type": "markdown",
   "metadata": {},
   "source": [
    "## 월요일 처리"
   ]
  },
  {
   "cell_type": "markdown",
   "metadata": {},
   "source": [
    "- 먼저 '월' 이라는 str 이 들어가있는 경우에, 매월,d월, 등이 들어가 있으므로 이를 제외하면 아래와 같은 경우가 남는다.\n",
    "- 즉 아래와 같은 경우 월요일 변수에 1을 넣도록 하자."
   ]
  },
  {
   "cell_type": "code",
   "execution_count": 353,
   "metadata": {
    "scrolled": true
   },
   "outputs": [
    {
     "data": {
      "text/plain": [
       "array(['월+화+목+금+토+일', '월+화+수+목+금+토', '월～금', '월～토', '월~토', '월~금',\n",
       "       '주5회(월~금)', '주6회(월~토)', '월화수목금토', '월+화+수+목+금', '월+수+금',\n",
       "       '월,화,수,목,금', '월~금(5일)', '월+화+수+금+토+일', '월+화+수+목+금(주중)',\n",
       "       '화+목(2째주월+화+수+목+금)', '주1일(월)', '월+화+수+목', '월', '월,금',\n",
       "       '월,목 : 횡성읍 /화,금 : 갑천,공근 서원', '월,화,수,목,금,토', '월,화,목,금,토,일', '월화금토',\n",
       "       '주5회(월~토중수요일제외)', '월수금', '월+목+금', '월,화,목,금.토', '월,수,금', '월,화,수,금',\n",
       "       '월,수,금,일', '경로식당(월,화,수,목,금,토),식사배달(월,화,수,목,금,토,일),밑반찬배달(월,목)',\n",
       "       '경로식당(월,화,수,목,금,토),식사배달(월,화,수,목,금,토,일),밑반찬배달(화,목)', '월.화.수.목.금',\n",
       "       '월.화.수.목.금.토', '경로식당(월,화,수,목,금,토)',\n",
       "       '경로식당(월,화,수,목,금,토),식사배달(월,화,수,목,금,토,일)',\n",
       "       '식사배달(월,화,수,목,금,토,일),밑반찬배달(월,목)', '월+목', '월+화+수+목+금+토+일', '매주월~금',\n",
       "       '주3일(월,수,금)', '월화수목금', '월~금(주5회)', '월+화+목', '매주월~토', '월∼토',\n",
       "       '경로식당(월,화,수,목,금,토),밑반찬배달(화,목)', '식사배달(월,화,수,목,금,토,일)',\n",
       "       '중식(매주수요일)+석식(월~금)', '월~금(토요일대체식지급)', '월~일(주7회)',\n",
       "       '월,화,수,목,금,(토~금요일지원)', '월+금', '매달 첫째,셋째 월', '주 5일(월~금요일)',\n",
       "       '월+화+수+목+금+토(토요일자체운영)', '매달 둘째,넷째 월', '월/목', '주3회(월,수,금)',\n",
       "       '주4회(월,화,수,목)', '주5회(월,화,수,목,금)', '월~일', '월~화', '월,수', '주6일(월~토)',\n",
       "       '주5일(월~금)', '월,수,목', '중식(월~금)+석식(매일)', '월+화+목+금+토',\n",
       "       '중식(주7회)+석식(월,화,목,토)+석식(수,금,일)', '매월마지막주월요일', '매주월요일', '월+화+수+토',\n",
       "       '월+화+수+목+금+일', '월+화+목+금', '2,3,4주월', '월~토(법정공휴일제외)', '매주월.수.금',\n",
       "       '월화수목금토일', '월~토요일', '월~금요일', '주2회(월,수)', '월+화+수+목+토', '월+화+수',\n",
       "       '월+수+토', '월+금+토', '월,수,목,금', '월3회월요일'], dtype=object)"
      ]
     },
     "execution_count": 353,
     "metadata": {},
     "output_type": "execute_result"
    }
   ],
   "source": [
    "# 월요일의 index 로, 예외사항을 '' 으로 replace 한 뒤에, 월요일이 contains 되어있는지를 검사하였다.\n",
    "mon = df['급식요일'].str.replace('\\d+월|매월|월\\d+회|평일|요일|\\d+일','',regex = True).str.contains('월',na=False)\n",
    "df[mon]['급식요일'].unique()"
   ]
  },
  {
   "cell_type": "code",
   "execution_count": 354,
   "metadata": {},
   "outputs": [],
   "source": [
    "df.loc[mon,'월'] = 1"
   ]
  },
  {
   "cell_type": "markdown",
   "metadata": {},
   "source": [
    "## 화~토 처리"
   ]
  },
  {
   "cell_type": "markdown",
   "metadata": {},
   "source": [
    "- 화~토 의 경우 contains 로 처리해도 별 다른 issue 가 없었다.\n",
    "- 그러므로 아래와 같이 contains 로 처리하기로 하였다."
   ]
  },
  {
   "cell_type": "code",
   "execution_count": 355,
   "metadata": {},
   "outputs": [],
   "source": [
    "df.loc[df['급식요일'].str.contains('화',na=False),'화'] = 1\n",
    "df.loc[df['급식요일'].str.contains('수',na=False),'수'] = 1\n",
    "df.loc[df['급식요일'].str.contains('목',na=False),'목'] = 1\n",
    "df.loc[df['급식요일'].str.contains('금',na=False),'금'] = 1\n",
    "df.loc[df['급식요일'].str.contains('토|주말',na=False),'토'] = 1"
   ]
  },
  {
   "cell_type": "markdown",
   "metadata": {},
   "source": [
    "## 일요일 처리"
   ]
  },
  {
   "cell_type": "markdown",
   "metadata": {},
   "source": [
    "- 일요일의 경우 ~요일,휴일 등의 경우가 있어서 처리를 해 주어야 한다."
   ]
  },
  {
   "cell_type": "code",
   "execution_count": 356,
   "metadata": {
    "scrolled": false
   },
   "outputs": [
    {
     "data": {
      "text/plain": [
       "array(['월+화+목+금+토+일', '목+일', '월+화+수+금+토+일', '월,화,목,금,토,일',\n",
       "       '화수목금(조식,석식). 일(중식,석식)', '화+목+일', '연중(토,일.공휴일제외,8월혹서기4주제외)',\n",
       "       '월,수,금,일', '경로식당(월,화,수,목,금,토),식사배달(월,화,수,목,금,토,일),밑반찬배달(월,목)',\n",
       "       '경로식당(월,화,수,목,금,토),식사배달(월,화,수,목,금,토,일),밑반찬배달(화,목)',\n",
       "       '경로식당(월,화,수,목,금,토),식사배달(월,화,수,목,금,토,일)',\n",
       "       '식사배달(월,화,수,목,금,토,일),밑반찬배달(월,목)', '수+일', '월+화+수+목+금+토+일', '일',\n",
       "       '주말,공휴일', '식사배달(월,화,수,목,금,토,일)', '토+일', '월~일(주7회)', '목+금+일', '일요일',\n",
       "       '월~일', '조식(수+목+금+일)', '중식(주7회)+석식(월,화,목,토)+석식(수,금,일)', '홀수일',\n",
       "       '첫째주일+셋째주일', '월+화+수+목+금+일', '화+수+금+토+일+코로나19관련 현재 미운영', '월화수목금토일',\n",
       "       '화+금+일(1+2+7+8월제외)', '화+일'], dtype=object)"
      ]
     },
     "execution_count": 356,
     "metadata": {},
     "output_type": "execute_result"
    }
   ],
   "source": [
    "sun = df['급식요일'].str.replace('요일|매일|\\d일|평일|포함일|째일|공휴일','',regex = True).str.contains('일|주말',na=False)\n",
    "df[sun]['급식요일'].unique()"
   ]
  },
  {
   "cell_type": "markdown",
   "metadata": {},
   "source": [
    "- 위의 경우는 모두 일요일이 들어있다고 생각할 수 있다.\n",
    "- 그러므로 위의 경우 일요일에 1 을 넣도록 하자."
   ]
  },
  {
   "cell_type": "code",
   "execution_count": 357,
   "metadata": {},
   "outputs": [],
   "source": [
    "df.loc[sun,'일'] = 1"
   ]
  },
  {
   "cell_type": "markdown",
   "metadata": {},
   "source": [
    "## nan 처리"
   ]
  },
  {
   "cell_type": "markdown",
   "metadata": {},
   "source": [
    "- 급식 시간이 아예 없는 경우가 있었다. \n",
    "- 이 경우는 "
   ]
  },
  {
   "cell_type": "markdown",
   "metadata": {},
   "source": [
    "# 급식대상 처리"
   ]
  },
  {
   "cell_type": "markdown",
   "metadata": {},
   "source": [
    "- 아래와 같이 급식 대상에 대한 단어들을 추출해 본 뒤, 상위 20개를 살펴보았다.\n",
    "- 아래와 같이 대부분 노인에 대해서 매우 집중되어 있음을 알 수 있다."
   ]
  },
  {
   "cell_type": "code",
   "execution_count": 358,
   "metadata": {},
   "outputs": [
    {
     "data": {
      "text/plain": [
       "노인       479\n",
       "저소득      351\n",
       "이상       316\n",
       "독거노인     281\n",
       "결식노인     228\n",
       "저소득층     204\n",
       "60세이상    185\n",
       "60세      184\n",
       "등        168\n",
       "어르신      161\n",
       "및        158\n",
       "결식우려     134\n",
       "65세이상    110\n",
       "있는        98\n",
       "차상위       94\n",
       "저소득노인     92\n",
       "차상위계층     91\n",
       "만60세      84\n",
       "만         81\n",
       "기초수급자     81\n",
       "Name: 0, dtype: int64"
      ]
     },
     "execution_count": 358,
     "metadata": {},
     "output_type": "execute_result"
    }
   ],
   "source": [
    "df['급식대상'].str.extractall('(\\w+)')[0].value_counts().head(n=20)"
   ]
  },
  {
   "cell_type": "markdown",
   "metadata": {},
   "source": [
    "- 직접 살펴본 경우에도, 대부 분 노인에 집중되어 있다."
   ]
  },
  {
   "cell_type": "code",
   "execution_count": 359,
   "metadata": {
    "scrolled": true
   },
   "outputs": [
    {
     "data": {
      "text/plain": [
       "결식아동                                            65\n",
       "65세이상 저소득층                                      58\n",
       "독거노인                                            37\n",
       "독거노인, 결식노인, 저소득어르신 등                            32\n",
       "결식노인                                            32\n",
       "독거노인, 결식노인 등                                    28\n",
       "저소득노인                                           26\n",
       "만 60세 이상 노인                                     26\n",
       "60세이상 저소득 결식우려 노인                               23\n",
       "만60세 이상 결식우려가 있는 저소득 어르신                        22\n",
       "만 60세이상 저소득 노인, 독거노인 등                          22\n",
       "결식노인,저소득층                                       21\n",
       "가정형편이 어렵거나 부득이한 사정으로 식사를 거를 우려가 있는 60세 이상 노인    21\n",
       "노인                                              21\n",
       "만60세 이상 기초생활보장수급자 및 차상위계층                       18\n",
       "독거노인, 결식노인,일반노인                                 17\n",
       "노숙인                                             17\n",
       "60세이상 수급자 및 저소득노인                               17\n",
       "저소득층 노인                                         16\n",
       "60세이상 기초수급자, 차상위, 저소득 등                         14\n",
       "Name: 급식대상, dtype: int64"
      ]
     },
     "execution_count": 359,
     "metadata": {},
     "output_type": "execute_result"
    }
   ],
   "source": [
    "df['급식대상'].value_counts().head(n=20)"
   ]
  },
  {
   "cell_type": "markdown",
   "metadata": {},
   "source": [
    "모든 유형을 살펴본 결과 아래와 같은 타입이 '노인' 만을 대상으로 하지 않는 급식소였다.\n",
    "- 노인을 제외한 다른 대상에 대해서 살펴본 결과 아래와 같았다.\n",
    "- 결식아동\n",
    "- 결식노인,저소득층\n",
    "- 기초생활수급자, 차상위 계층 및 저소득 독거어르신\n",
    "- 저소득 및 소외계층\n",
    "- 취약계층\n",
    "- 저소득 및 결식노인\n",
    "- 저소득층등\n",
    "- 독거노인, 결식노인, 저소득층, 차상위계층 등\n",
    "- 무료: 수급자,차상위 어르신실비: 만 60세이상 관내 어르신\n",
    "- 누구나\n",
    "- 기초수급 및 저소득층\n",
    "- 기초생활수급자, 차상위, 노인맞춤돌봄\n",
    "- 기초생활수급자, 차상위, 독거노인\n",
    "- 수급자,차상위,기타저소득(밑반찬배달)\n",
    "- 저소득 장애인\n",
    "- 국가유공자, 국민기초생활수급자, 장애인 등\n",
    "- 장애인\n",
    "- 회원가입(국민기초)\n",
    "- 경로식당 무료급식을 이용하지 못하는 거동이 불편한  60세 이상 노인분 중  기초수급자 및 차상위계층, 저소득 독거노인 중에서 시설에서 대상자 상담을 통해 지정된 분에 한해서(이용권발급) 무료급식지원\n",
    "- 저소득층, 수급자\n",
    "- 수급자,차상위,기타저소득(경로식당,식사배달,밑반찬배달)\n",
    "- 저소득층 아동\n",
    "- 결식노인 및 취약계층\n",
    "- 독거노인,조손가정, 장애인가정등"
   ]
  },
  {
   "cell_type": "markdown",
   "metadata": {},
   "source": [
    "위 경우들은 대상이 '노인만' 이 아닌 경우이다. 이를 표현하기 위해 '노인만 대상' 이라는 columna 에 0 으로 넣자."
   ]
  },
  {
   "cell_type": "code",
   "execution_count": 360,
   "metadata": {},
   "outputs": [],
   "source": [
    "target = [\n",
    "'결식아동',\n",
    "'결식노인,저소득층',\n",
    "'기초생활수급자, 차상위 계층 및 저소득 독거어르신',\n",
    "'저소득 및 소외계층',\n",
    "'취약계층',\n",
    "'저소득 및 결식노인',\n",
    "'저소득층등',\n",
    "'독거노인, 결식노인, 저소득층, 차상위계층 등',\n",
    "'무료: 수급자,차상위 어르신실비: 만 60세이상 관내 어르신',\n",
    "'누구나',\n",
    "'기초수급 및 저소득층',\n",
    "'기초생활수급자, 차상위, 노인맞춤돌봄',\n",
    "'기초생활수급자, 차상위, 독거노인',\n",
    "'수급자,차상위,기타저소득(밑반찬배달)',\n",
    "'저소득 장애인',\n",
    "'국가유공자, 국민기초생활수급자, 장애인 등',\n",
    "'장애인',\n",
    "'회원가입(국민기초)',\n",
    "'경로식당 무료급식을 이용하지 못하는 거동이 불편한  60세 이상 노인분 중  기초수급자 및 차상위계층, 저소득 독거노인 중에서 시설에서 대상자 상담을 통해 지정된 분에 한해서(이용권발급) 무료급식지원',\n",
    "'저소득층, 수급자',\n",
    "'수급자,차상위,기타저소득(경로식당,식사배달,밑반찬배달)',\n",
    "'저소득층 아동',\n",
    "'결식노인 및 취약계층',\n",
    "'독거노인,조손가정, 장애인가정등']"
   ]
  },
  {
   "cell_type": "code",
   "execution_count": 361,
   "metadata": {
    "scrolled": true
   },
   "outputs": [],
   "source": [
    "df['노인만 대상'] = (~df['급식대상'].isin(target))*1 "
   ]
  },
  {
   "cell_type": "markdown",
   "metadata": {},
   "source": [
    "# 운영 시작일자 처리"
   ]
  },
  {
   "cell_type": "markdown",
   "metadata": {},
   "source": [
    "- NAN 값과 '' 값이 섞여있다.\n",
    "- 종료일자가 없거나, 21년 보다 한참 이후인 날짜로 되어있는것은 아직까지 운영중임을 의미한다.\n",
    "- 대부분 01-01 으로 되어있었다. 구체적인 날짜가 크게 도움이 되지 않는다고 판단, 년도만 나타내기로 하였다."
   ]
  },
  {
   "cell_type": "code",
   "execution_count": 362,
   "metadata": {
    "scrolled": false
   },
   "outputs": [
    {
     "data": {
      "text/plain": [
       "              296\n",
       "2020-01-01    131\n",
       "2017-01-01    126\n",
       "2018-01-01    110\n",
       "2019-01-01     78\n",
       "             ... \n",
       "2012-07-12      1\n",
       "2016-07-14      1\n",
       "1997-12-22      1\n",
       "1995-05-22      1\n",
       "2012-07-04      1\n",
       "Name: 운영시작일자, Length: 354, dtype: int64"
      ]
     },
     "execution_count": 362,
     "metadata": {},
     "output_type": "execute_result"
    }
   ],
   "source": [
    "df['운영시작일자'].value_counts()"
   ]
  },
  {
   "cell_type": "markdown",
   "metadata": {},
   "source": [
    "- 빈칸 및 nan 값은 버린 상태에서 시각화를 진행하였다."
   ]
  },
  {
   "cell_type": "code",
   "execution_count": 363,
   "metadata": {},
   "outputs": [],
   "source": [
    "df['운영시작'] = df['운영시작일자'].str[0:4].fillna('0').replace('','0')"
   ]
  },
  {
   "cell_type": "code",
   "execution_count": 364,
   "metadata": {},
   "outputs": [
    {
     "data": {
      "text/plain": [
       "1986      1\n",
       "1988      1\n",
       "1989      1\n",
       "1991      1\n",
       "1992     11\n",
       "1993      6\n",
       "1994     17\n",
       "1995      5\n",
       "1996     23\n",
       "1997     17\n",
       "1998     11\n",
       "1999     26\n",
       "2000     25\n",
       "2001     16\n",
       "2002     15\n",
       "2003     12\n",
       "2004     18\n",
       "2005     14\n",
       "2006     19\n",
       "2007     24\n",
       "2008     22\n",
       "2009     15\n",
       "2010     28\n",
       "2011     21\n",
       "2012     18\n",
       "2013     10\n",
       "2014     36\n",
       "2015     28\n",
       "2016     33\n",
       "2017    154\n",
       "2018    115\n",
       "2019    108\n",
       "2020    172\n",
       "Name: 운영시작일자, dtype: int64"
      ]
     },
     "execution_count": 364,
     "metadata": {},
     "output_type": "execute_result"
    }
   ],
   "source": [
    "idx = df['운영시작일자'].str[0:4].fillna('0').replace('','0').unique().astype('str')\n",
    "idx.sort() # index 정렬\n",
    "idx = idx[1:] # nan 과 빈칸의 처리는 없앴다.\n",
    "df['운영시작일자'].str[0:4].value_counts()[1:][idx.astype(str)]"
   ]
  },
  {
   "cell_type": "markdown",
   "metadata": {},
   "source": [
    "- 운영 시작 일자는 대부분 최근에 위치하고 있다."
   ]
  },
  {
   "cell_type": "code",
   "execution_count": 366,
   "metadata": {},
   "outputs": [
    {
     "data": {
      "text/plain": [
       "              296\n",
       "2020-01-01    131\n",
       "2017-01-01    126\n",
       "2018-01-01    110\n",
       "2019-01-01     78\n",
       "             ... \n",
       "2012-07-12      1\n",
       "2016-07-14      1\n",
       "1997-12-22      1\n",
       "1995-05-22      1\n",
       "2012-07-04      1\n",
       "Name: 운영시작일자, Length: 354, dtype: int64"
      ]
     },
     "execution_count": 366,
     "metadata": {},
     "output_type": "execute_result"
    }
   ],
   "source": [
    "df['운영시작일자'].value_counts()"
   ]
  },
  {
   "cell_type": "code",
   "execution_count": 367,
   "metadata": {},
   "outputs": [
    {
     "data": {
      "text/plain": [
       "387"
      ]
     },
     "execution_count": 367,
     "metadata": {},
     "output_type": "execute_result"
    }
   ],
   "source": [
    "df['운영시작일자'].isnull().sum() + np.sum(df['운영시작일자'] == '')"
   ]
  },
  {
   "cell_type": "code",
   "execution_count": 368,
   "metadata": {
    "scrolled": true
   },
   "outputs": [
    {
     "data": {
      "text/plain": [
       "<BarContainer object of 33 artists>"
      ]
     },
     "execution_count": 368,
     "metadata": {},
     "output_type": "execute_result"
    },
    {
     "data": {
      "image/png": "[encoded data removed]",
      "text/plain": [
       "<Figure size 720x720 with 1 Axes>"
      ]
     },
     "metadata": {
      "needs_background": "light"
     },
     "output_type": "display_data"
    }
   ],
   "source": [
    "plt.figure(figsize = (10,10))\n",
    "plt.xticks(rotation=60)\n",
    "plt.bar(idx.astype(str), df['운영시작일자'].str[0:4].value_counts()[1:][idx])"
   ]
  },
  {
   "cell_type": "markdown",
   "metadata": {},
   "source": [
    "# 운영 종료일자 처리"
   ]
  },
  {
   "cell_type": "markdown",
   "metadata": {},
   "source": [
    "- 2025, 2099, 2050 의 데이터가 몇개 있었으나, 그 수가 많지 않고 운영 종료일자가 저렇게 먼 시기까지 정확히 지켜지지 않을것 같아서 제외하였다.\n",
    "- na, '' 날짜들은 아직 구체적으로 운영 종료일자가 정해지지 않았다고 생각할 수 있다.\n",
    "- 그에 따라서 아래와 같이 운영 종료일자에 대해 나타낼 수 있었다."
   ]
  },
  {
   "cell_type": "code",
   "execution_count": 369,
   "metadata": {},
   "outputs": [],
   "source": [
    "df['운영종료년도'] = df['운영종료일자'].str[0:4].fillna('0').replace(['','2050','2099','2025'],['0','0','0','0'])"
   ]
  },
  {
   "cell_type": "code",
   "execution_count": 370,
   "metadata": {},
   "outputs": [
    {
     "data": {
      "text/plain": [
       "2016      3\n",
       "2017     81\n",
       "2018     59\n",
       "2019    134\n",
       "2020    164\n",
       "2021    105\n",
       "Name: 운영종료일자, dtype: int64"
      ]
     },
     "execution_count": 370,
     "metadata": {},
     "output_type": "execute_result"
    }
   ],
   "source": [
    "idx = df['운영종료일자'].str[0:4].fillna('0').replace(['','2050','2099','2025'],['0','0','0','0']).unique().astype('str')\n",
    "idx.sort() # index 정렬\n",
    "idx = idx[1:] # nan 과 빈칸의 처리는 없앴다.\n",
    "df['운영종료일자'].str[0:4].value_counts()[1:][idx.astype(str)]"
   ]
  },
  {
   "cell_type": "code",
   "execution_count": 371,
   "metadata": {
    "scrolled": true
   },
   "outputs": [
    {
     "data": {
      "text/plain": [
       "<BarContainer object of 6 artists>"
      ]
     },
     "execution_count": 371,
     "metadata": {},
     "output_type": "execute_result"
    },
    {
     "data": {
      "image/png": "[encoded data removed]",
      "text/plain": [
       "<Figure size 720x720 with 1 Axes>"
      ]
     },
     "metadata": {
      "needs_background": "light"
     },
     "output_type": "display_data"
    }
   ],
   "source": [
    "plt.figure(figsize = (10,10))\n",
    "plt.xticks(rotation=60)\n",
    "plt.bar(idx.astype(str), df['운영종료일자'].str[0:4].value_counts()[1:][idx])"
   ]
  },
  {
   "cell_type": "markdown",
   "metadata": {},
   "source": [
    "# Save"
   ]
  },
  {
   "cell_type": "markdown",
   "metadata": {},
   "source": [
    "- 전처리는 여기까지 마무리 하고 이 이후는 테블로로 넘어가도록 하겠다."
   ]
  },
  {
   "cell_type": "code",
   "execution_count": 378,
   "metadata": {},
   "outputs": [],
   "source": [
    "df.to_csv('vis.csv',index=False)"
   ]
  },
  {
   "cell_type": "markdown",
   "metadata": {},
   "source": [
    "# dropping"
   ]
  },
  {
   "cell_type": "markdown",
   "metadata": {},
   "source": [
    "- 별 의미없는 정보거나, 이미 처리를 진행한 변수를 dropping 한다."
   ]
  },
  {
   "cell_type": "code",
   "execution_count": 372,
   "metadata": {
    "scrolled": true
   },
   "outputs": [
    {
     "data": {
      "text/plain": [
       "0            수서종합사회복지관\n",
       "1            대청종합사회복지관\n",
       "2            사회복지법인 영산\n",
       "3            사회복지법인 영산\n",
       "4            사회복지법인 영산\n",
       "             ...      \n",
       "1405              용현교회\n",
       "1406              개웅교회\n",
       "1407        (사)지구촌사랑나눔\n",
       "1408    한국지체장애인협회 구로지회\n",
       "1409         장애인문화인쇄협회\n",
       "Name: 운영기관명, Length: 1410, dtype: object"
      ]
     },
     "execution_count": 372,
     "metadata": {},
     "output_type": "execute_result"
    }
   ],
   "source": [
    "df['운영기관명']"
   ]
  },
  {
   "cell_type": "markdown",
   "metadata": {},
   "source": [
    "# 시각화"
   ]
  },
  {
   "cell_type": "markdown",
   "metadata": {},
   "source": [
    "- 무료 급식소가 존재하는 지점을 점으로 표시하였다.\n",
    "- 같은 급식소에 여러 단체가 같이 활동하는 경우가 있어 1,2,5 개의 가짓수가 나타났다. 그래서 Count 가 다르다.\n",
    "- 지역별로 무료급식수가 많을수록 진한색을 띠게 된다."
   ]
  },
  {
   "cell_type": "code",
   "execution_count": 380,
   "metadata": {},
   "outputs": [
    {
     "data": {
      "text/html": [
       "<div class='tableauPlaceholder' id='viz1612987216762' style='position: relative'><noscript><a href='#'><img alt=' ' src='https:&#47;&#47;public.tableau.com&#47;static&#47;images&#47;7C&#47;7CDBRX2B9&#47;1_rss.png' style='border: none' /></a></noscript><object class='tableauViz'  style='display:none;'><param name='host_url' value='https%3A%2F%2Fpublic.tableau.com%2F' /> <param name='embed_code_version' value='3' /> <param name='path' value='shared&#47;7CDBRX2B9' /> <param name='toolbar' value='yes' /><param name='static_image' value='https:&#47;&#47;public.tableau.com&#47;static&#47;images&#47;7C&#47;7CDBRX2B9&#47;1.png' /> <param name='animate_transition' value='yes' /><param name='display_static_image' value='yes' /><param name='display_spinner' value='yes' /><param name='display_overlay' value='yes' /><param name='display_count' value='yes' /><param name='language' value='ko' /><param name='filter' value='publish=yes' /></object></div>                <script type='text/javascript'>                    var divElement = document.getElementById('viz1612987216762');                    var vizElement = divElement.getElementsByTagName('object')[0];                    vizElement.style.width='100%';vizElement.style.height=(divElement.offsetWidth*0.75)+'px';                    var scriptElement = document.createElement('script');                    scriptElement.src = 'https://public.tableau.com/javascripts/api/viz_v1.js';                    vizElement.parentNode.insertBefore(scriptElement, vizElement);                </script>\n"
      ],
      "text/plain": [
       "<IPython.core.display.HTML object>"
      ]
     },
     "metadata": {},
     "output_type": "display_data"
    }
   ],
   "source": [
    "%%HTML\n",
    "<div class='tableauPlaceholder' id='viz1612987216762' style='position: relative'><noscript><a href='#'><img alt=' ' src='https:&#47;&#47;public.tableau.com&#47;static&#47;images&#47;7C&#47;7CDBRX2B9&#47;1_rss.png' style='border: none' /></a></noscript><object class='tableauViz'  style='display:none;'><param name='host_url' value='https%3A%2F%2Fpublic.tableau.com%2F' /> <param name='embed_code_version' value='3' /> <param name='path' value='shared&#47;7CDBRX2B9' /> <param name='toolbar' value='yes' /><param name='static_image' value='https:&#47;&#47;public.tableau.com&#47;static&#47;images&#47;7C&#47;7CDBRX2B9&#47;1.png' /> <param name='animate_transition' value='yes' /><param name='display_static_image' value='yes' /><param name='display_spinner' value='yes' /><param name='display_overlay' value='yes' /><param name='display_count' value='yes' /><param name='language' value='ko' /><param name='filter' value='publish=yes' /></object></div>                <script type='text/javascript'>                    var divElement = document.getElementById('viz1612987216762');                    var vizElement = divElement.getElementsByTagName('object')[0];                    vizElement.style.width='100%';vizElement.style.height=(divElement.offsetWidth*0.75)+'px';                    var scriptElement = document.createElement('script');                    scriptElement.src = 'https://public.tableau.com/javascripts/api/viz_v1.js';                    vizElement.parentNode.insertBefore(scriptElement, vizElement);                </script>"
   ]
  },
  {
   "cell_type": "code",
   "execution_count": null,
   "metadata": {},
   "outputs": [],
   "source": []
  }
 ],
 "metadata": {
  "kernelspec": {
   "display_name": "Python 3",
   "language": "python",
   "name": "python3"
  },
  "language_info": {
   "codemirror_mode": {
    "name": "ipython",
    "version": 3
   },
   "file_extension": ".py",
   "mimetype": "text/x-python",
   "name": "python",
   "nbconvert_exporter": "python",
   "pygments_lexer": "ipython3",
   "version": "3.7.9"
  },
  "toc": {
   "base_numbering": 1,
   "nav_menu": {},
   "number_sections": true,
   "sideBar": true,
   "skip_h1_title": false,
   "title_cell": "Table of Contents",
   "title_sidebar": "Contents",
   "toc_cell": false,
   "toc_position": {
    "height": "calc(100% - 180px)",
    "left": "10px",
    "top": "150px",
    "width": "285.903px"
   },
   "toc_section_display": true,
   "toc_window_display": true
  }
 },
 "nbformat": 4,
 "nbformat_minor": 4
}
